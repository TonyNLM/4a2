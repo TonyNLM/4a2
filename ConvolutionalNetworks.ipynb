{
 "cells": [
  {
   "cell_type": "markdown",
   "source": "# Convolutional Networks\nSo far we have worked with deep fully-connected networks, using them to explore different optimization strategies and network architectures. Fully-connected networks are a good testbed for experimentation because they are very computationally efficient, but in practice all state-of-the-art results use convolutional networks instead.\n\nFirst you will implement several layer types that are used in convolutional networks. You will then use these layers to train a convolutional network on the CIFAR-10 dataset.",
   "metadata": {
    "editable": true,
    "deletable": true,
    "cell_id": "1aabded9-ab0d-4ee7-893b-c3d473abe72d",
    "deepnote_cell_type": "markdown",
    "deepnote_cell_height": 224
   }
  },
  {
   "cell_type": "code",
   "metadata": {
    "collapsed": false,
    "editable": true,
    "deletable": true,
    "cell_id": "00001-6ccaf575-1e85-46ad-a04b-170e5b5fb1b1",
    "deepnote_to_be_reexecuted": false,
    "source_hash": "aa22e0b9",
    "execution_start": 1665989404325,
    "execution_millis": 2184,
    "deepnote_cell_type": "code",
    "deepnote_cell_height": 490
   },
   "source": "# As usual, a bit of setup\nfrom __future__ import print_function\nimport numpy as np\nimport matplotlib.pyplot as plt\nfrom cs231n.classifiers.cnn import *\nfrom cs231n.data_utils import get_CIFAR10_data\nfrom cs231n.gradient_check import eval_numerical_gradient_array, eval_numerical_gradient\nfrom cs231n.layers import *\nfrom cs231n.fast_layers import *\nfrom cs231n.solver import Solver\n\n%matplotlib inline\nplt.rcParams['figure.figsize'] = (10.0, 8.0) # set default size of plots\nplt.rcParams['image.interpolation'] = 'nearest'\nplt.rcParams['image.cmap'] = 'gray'\n\n# for auto-reloading external modules\n# see http://stackoverflow.com/questions/1907993/autoreload-of-modules-in-ipython\n%load_ext autoreload\n%autoreload 2\n\ndef rel_error(x, y):\n  \"\"\" returns relative error \"\"\"\n  return np.max(np.abs(x - y) / (np.maximum(1e-8, np.abs(x) + np.abs(y))))",
   "execution_count": 1,
   "outputs": []
  },
  {
   "cell_type": "code",
   "metadata": {
    "collapsed": false,
    "editable": true,
    "deletable": true,
    "cell_id": "00002-779b74fe-ebb9-4748-8432-71c489f89097",
    "deepnote_to_be_reexecuted": false,
    "source_hash": "ec11e641",
    "execution_start": 1665989406517,
    "execution_millis": 2745,
    "deepnote_cell_type": "code",
    "deepnote_cell_height": 279
   },
   "source": "# Load the (preprocessed) CIFAR10 data.\n\ndata = get_CIFAR10_data()\nfor k, v in data.items():\n  print('%s: ' % k, v.shape)",
   "execution_count": 2,
   "outputs": [
    {
     "name": "stdout",
     "text": "X_train:  (49000, 3, 32, 32)\ny_train:  (49000,)\nX_val:  (1000, 3, 32, 32)\ny_val:  (1000,)\nX_test:  (1000, 3, 32, 32)\ny_test:  (1000,)\n",
     "output_type": "stream"
    }
   ]
  },
  {
   "cell_type": "markdown",
   "source": "# Convolution: Naive forward pass\nThe core of a convolutional network is the convolution operation. In the file `cs231n/layers.py`, implement the forward pass for the convolution layer in the function `conv_forward_naive`. \n\nYou don't have to worry too much about efficiency at this point; just write the code in whatever way you find most clear.\n\nYou can test your implementation by running the following:",
   "metadata": {
    "editable": true,
    "deletable": true,
    "cell_id": "00003-75973f9a-5a48-4f86-a796-cc0c15b49c76",
    "deepnote_cell_type": "markdown",
    "deepnote_cell_height": 215.59375
   }
  },
  {
   "cell_type": "code",
   "metadata": {
    "collapsed": false,
    "editable": true,
    "deletable": true,
    "cell_id": "00004-17d2f614-819d-4c74-90b6-7e2fe6b33e08",
    "deepnote_to_be_reexecuted": false,
    "source_hash": "a55a0ee5",
    "execution_start": 1665989409266,
    "execution_millis": 35,
    "deepnote_cell_type": "code",
    "deepnote_cell_height": 559
   },
   "source": "x_shape = (2, 3, 4, 4)\nw_shape = (3, 3, 4, 4)\nx = np.linspace(-0.1, 0.5, num=np.prod(x_shape)).reshape(x_shape)\nw = np.linspace(-0.2, 0.3, num=np.prod(w_shape)).reshape(w_shape)\nb = np.linspace(-0.1, 0.2, num=3)\n\nconv_param = {'stride': 2, 'pad': 1}\nout, _ = conv_forward_naive(x, w, b, conv_param)\ncorrect_out = np.array([[[[-0.08759809, -0.10987781],\n                           [-0.18387192, -0.2109216 ]],\n                          [[ 0.21027089,  0.21661097],\n                           [ 0.22847626,  0.23004637]],\n                          [[ 0.50813986,  0.54309974],\n                           [ 0.64082444,  0.67101435]]],\n                         [[[-0.98053589, -1.03143541],\n                           [-1.19128892, -1.24695841]],\n                          [[ 0.69108355,  0.66880383],\n                           [ 0.59480972,  0.56776003]],\n                          [[ 2.36270298,  2.36904306],\n                           [ 2.38090835,  2.38247847]]]])\n\n# Compare your output to ours; difference should be around 2e-8\nprint('Testing conv_forward_naive')\nprint('difference: ', rel_error(out, correct_out))\n",
   "execution_count": 3,
   "outputs": [
    {
     "name": "stdout",
     "text": "Testing conv_forward_naive\ndifference:  2.2121476417505994e-08\n",
     "output_type": "stream"
    }
   ]
  },
  {
   "cell_type": "markdown",
   "source": "# Aside: Image processing via convolutions\n\nAs fun way to both check your implementation and gain a better understanding of the type of operation that convolutional layers can perform, we will set up an input containing two images and manually set up filters that perform common image processing operations (grayscale conversion and edge detection). The convolution forward pass will apply these operations to each of the input images. We can then visualize the results as a sanity check.",
   "metadata": {
    "editable": true,
    "deletable": true,
    "cell_id": "00005-17715003-c62b-462f-b768-d1f2170fbd3a",
    "deepnote_cell_type": "markdown",
    "deepnote_cell_height": 187.59375
   }
  },
  {
   "cell_type": "code",
   "metadata": {
    "collapsed": false,
    "editable": true,
    "deletable": true,
    "cell_id": "00006-1ee2aa0b-a58d-4456-8d8d-871d5aa41332",
    "deepnote_to_be_reexecuted": false,
    "source_hash": "6b465446",
    "execution_start": 1665989409303,
    "execution_millis": 1234,
    "deepnote_cell_type": "code",
    "deepnote_cell_height": 1184.390625
   },
   "source": "from scipy.misc import imread, imresize\n\nkitten, puppy = imread('kitten.jpg'), imread('puppy.jpg')\n# kitten is wide, and puppy is already square\nd = kitten.shape[1] - kitten.shape[0]\nkitten_cropped = kitten[:, d//2:-d//2, :]\n\nimg_size = 200   # Make this smaller if it runs too slow\nx = np.zeros((2, 3, img_size, img_size))\nx[0, :, :, :] = imresize(puppy, (img_size, img_size)).transpose((2, 0, 1))\nx[1, :, :, :] = imresize(kitten_cropped, (img_size, img_size)).transpose((2, 0, 1))\n\n# Set up a convolutional weights holding 2 filters, each 3x3\nw = np.zeros((2, 3, 3, 3))\n\n# The first filter converts the image to grayscale.\n# Set up the red, green, and blue channels of the filter.\nw[0, 0, :, :] = [[0, 0, 0], [0, 0.3, 0], [0, 0, 0]]\nw[0, 1, :, :] = [[0, 0, 0], [0, 0.6, 0], [0, 0, 0]]\nw[0, 2, :, :] = [[0, 0, 0], [0, 0.1, 0], [0, 0, 0]]\n\n# Second filter detects horizontal edges in the blue channel.\nw[1, 2, :, :] = [[1, 2, 1], [0, 0, 0], [-1, -2, -1]]\n\n# Vector of biases. We don't need any bias for the grayscale\n# filter, but for the edge detection filter we want to add 128\n# to each output so that nothing is negative.\nb = np.array([0, 128])\n\n# Compute the result of convolving each input in x with each filter in w,\n# offsetting by b, and storing the results in out.\nout, _ = conv_forward_naive(x, w, b, {'stride': 1, 'pad': 1})\n\ndef imshow_noax(img, normalize=True):\n    \"\"\" Tiny helper to show images as uint8 and remove axis labels \"\"\"\n    if normalize:\n        img_max, img_min = np.max(img), np.min(img)\n        img = 255.0 * (img - img_min) / (img_max - img_min)\n    plt.imshow(img.astype('uint8'))\n    plt.gca().axis('off')\n\n# Show the original images and the results of the conv operation\nplt.subplot(2, 3, 1)\nimshow_noax(puppy, normalize=False)\nplt.title('Original image')\nplt.subplot(2, 3, 2)\nimshow_noax(out[0, 0])\nplt.title('Grayscale')\nplt.subplot(2, 3, 3)\nimshow_noax(out[0, 1])\nplt.title('Edges')\nplt.subplot(2, 3, 4)\nimshow_noax(kitten_cropped, normalize=False)\nplt.subplot(2, 3, 5)\nimshow_noax(out[1, 0])\nplt.subplot(2, 3, 6)\nimshow_noax(out[1, 1])\nplt.show()",
   "execution_count": 4,
   "outputs": [
    {
     "output_type": "error",
     "ename": "ImportError",
     "evalue": "cannot import name 'imread' from 'scipy.misc' (/shared-libs/python3.9/py/lib/python3.9/site-packages/scipy/misc/__init__.py)",
     "traceback": [
      "\u001b[0;31m---------------------------------------------------------------------------\u001b[0m",
      "\u001b[0;31mImportError\u001b[0m                               Traceback (most recent call last)",
      "Cell \u001b[0;32mIn [4], line 1\u001b[0m\n\u001b[0;32m----> 1\u001b[0m \u001b[38;5;28;01mfrom\u001b[39;00m \u001b[38;5;21;01mscipy\u001b[39;00m\u001b[38;5;21;01m.\u001b[39;00m\u001b[38;5;21;01mmisc\u001b[39;00m \u001b[38;5;28;01mimport\u001b[39;00m imread, imresize\n\u001b[1;32m      3\u001b[0m kitten, puppy \u001b[38;5;241m=\u001b[39m imread(\u001b[38;5;124m'\u001b[39m\u001b[38;5;124mkitten.jpg\u001b[39m\u001b[38;5;124m'\u001b[39m), imread(\u001b[38;5;124m'\u001b[39m\u001b[38;5;124mpuppy.jpg\u001b[39m\u001b[38;5;124m'\u001b[39m)\n\u001b[1;32m      4\u001b[0m \u001b[38;5;66;03m# kitten is wide, and puppy is already square\u001b[39;00m\n",
      "\u001b[0;31mImportError\u001b[0m: cannot import name 'imread' from 'scipy.misc' (/shared-libs/python3.9/py/lib/python3.9/site-packages/scipy/misc/__init__.py)"
     ]
    }
   ]
  },
  {
   "cell_type": "markdown",
   "source": "# Convolution: Naive backward pass\nImplement the backward pass for the convolution operation in the function `conv_backward_naive` in the file `cs231n/layers.py`. Again, you don't need to worry too much about computational efficiency.\n\nWhen you are done, run the following to check your backward pass with a numeric gradient check.",
   "metadata": {
    "editable": true,
    "deletable": true,
    "cell_id": "00007-2c5fdf89-dd2d-45ce-a107-dabb14bb727d",
    "deepnote_cell_type": "markdown",
    "deepnote_cell_height": 179
   }
  },
  {
   "cell_type": "code",
   "metadata": {
    "collapsed": false,
    "editable": true,
    "deletable": true,
    "cell_id": "00008-32bd8c43-483f-4627-8bd5-53d79816b190",
    "deepnote_to_be_reexecuted": false,
    "source_hash": "6ca21762",
    "execution_start": 1665989443899,
    "execution_millis": 2650,
    "deepnote_cell_type": "code",
    "deepnote_cell_height": 491
   },
   "source": "np.random.seed(231)\nx = np.random.randn(4, 3, 5, 5)\nw = np.random.randn(2, 3, 3, 3)\nb = np.random.randn(2,)\ndout = np.random.randn(4, 2, 5, 5)\nconv_param = {'stride': 1, 'pad': 1}\n\ndx_num = eval_numerical_gradient_array(lambda x: conv_forward_naive(x, w, b, conv_param)[0], x, dout)\ndw_num = eval_numerical_gradient_array(lambda w: conv_forward_naive(x, w, b, conv_param)[0], w, dout)\ndb_num = eval_numerical_gradient_array(lambda b: conv_forward_naive(x, w, b, conv_param)[0], b, dout)\n\nout, cache = conv_forward_naive(x, w, b, conv_param)\ndx, dw, db = conv_backward_naive(dout, cache)\n\n# Your errors should be around 1e-8'\nprint('Testing conv_backward_naive function')\nprint('dx error: ', rel_error(dx, dx_num))\nprint('dw error: ', rel_error(dw, dw_num))\nprint('db error: ', rel_error(db, db_num))",
   "execution_count": 5,
   "outputs": [
    {
     "name": "stdout",
     "text": "Testing conv_backward_naive function\ndx error:  1.159803161159293e-08\ndw error:  2.2471264748452487e-10\ndb error:  3.37264006649648e-11\n",
     "output_type": "stream"
    }
   ]
  },
  {
   "cell_type": "markdown",
   "source": "# Max pooling: Naive forward\nImplement the forward pass for the max-pooling operation in the function `max_pool_forward_naive` in the file `cs231n/layers.py`. Again, don't worry too much about computational efficiency.\n\nCheck your implementation by running the following:",
   "metadata": {
    "editable": true,
    "deletable": true,
    "cell_id": "00009-dd4b0c49-1ad7-4799-a9ee-7300b6b2c690",
    "deepnote_cell_type": "markdown",
    "deepnote_cell_height": 179
   }
  },
  {
   "cell_type": "code",
   "metadata": {
    "collapsed": false,
    "editable": true,
    "deletable": true,
    "cell_id": "00010-7aff83be-d2dd-41b7-af58-88942b91b441",
    "deepnote_to_be_reexecuted": false,
    "source_hash": "f620952a",
    "execution_start": 1665989448100,
    "execution_millis": 806,
    "deepnote_cell_type": "code",
    "deepnote_cell_height": 505
   },
   "source": "x_shape = (2, 3, 4, 4)\nx = np.linspace(-0.3, 0.4, num=np.prod(x_shape)).reshape(x_shape)\npool_param = {'pool_width': 2, 'pool_height': 2, 'stride': 2}\n\nout, _ = max_pool_forward_naive(x, pool_param)\n\ncorrect_out = np.array([[[[-0.26315789, -0.24842105],\n                          [-0.20421053, -0.18947368]],\n                         [[-0.14526316, -0.13052632],\n                          [-0.08631579, -0.07157895]],\n                         [[-0.02736842, -0.01263158],\n                          [ 0.03157895,  0.04631579]]],\n                        [[[ 0.09052632,  0.10526316],\n                          [ 0.14947368,  0.16421053]],\n                         [[ 0.20842105,  0.22315789],\n                          [ 0.26736842,  0.28210526]],\n                         [[ 0.32631579,  0.34105263],\n                          [ 0.38526316,  0.4       ]]]])\n\n# Compare your output with ours. Difference should be around 1e-8.\nprint('Testing max_pool_forward_naive function:')\nprint('difference: ', rel_error(out, correct_out))",
   "execution_count": 6,
   "outputs": [
    {
     "name": "stdout",
     "text": "Testing max_pool_forward_naive function:\ndifference:  4.1666665157267834e-08\n",
     "output_type": "stream"
    }
   ]
  },
  {
   "cell_type": "markdown",
   "source": "# Max pooling: Naive backward\nImplement the backward pass for the max-pooling operation in the function `max_pool_backward_naive` in the file `cs231n/layers.py`. You don't need to worry about computational efficiency.\n\nCheck your implementation with numeric gradient checking by running the following:",
   "metadata": {
    "editable": true,
    "deletable": true,
    "cell_id": "00011-22150f07-9584-4df3-ae17-f84aaefb2c57",
    "deepnote_cell_type": "markdown",
    "deepnote_cell_height": 179
   }
  },
  {
   "cell_type": "code",
   "metadata": {
    "collapsed": false,
    "editable": true,
    "deletable": true,
    "cell_id": "00012-543778ae-327a-4553-80be-635302782655",
    "deepnote_to_be_reexecuted": false,
    "source_hash": "640c0b80",
    "execution_start": 1665989450325,
    "execution_millis": 950,
    "deepnote_cell_type": "code",
    "deepnote_cell_height": 343
   },
   "source": "np.random.seed(231)\nx = np.random.randn(3, 2, 8, 8)\ndout = np.random.randn(3, 2, 4, 4)\npool_param = {'pool_height': 2, 'pool_width': 2, 'stride': 2}\n\ndx_num = eval_numerical_gradient_array(lambda x: max_pool_forward_naive(x, pool_param)[0], x, dout)\n\nout, cache = max_pool_forward_naive(x, pool_param)\ndx = max_pool_backward_naive(dout, cache)\n\n# Your error should be around 1e-12\nprint('Testing max_pool_backward_naive function:')\nprint('dx error: ', rel_error(dx, dx_num))",
   "execution_count": 7,
   "outputs": [
    {
     "name": "stdout",
     "text": "Testing max_pool_backward_naive function:\ndx error:  3.27562514223145e-12\n",
     "output_type": "stream"
    }
   ]
  },
  {
   "cell_type": "markdown",
   "source": "# Fast layers\nMaking convolution and pooling layers fast can be challenging. To spare you the pain, we've provided fast implementations of the forward and backward passes for convolution and pooling layers in the file `cs231n/fast_layers.py`.\n\nThe fast convolution implementation depends on a Cython extension; to compile it you need to run the following from the `cs231n` directory:\n\n```bash\npython setup.py build_ext --inplace\n```\n\nThe API for the fast versions of the convolution and pooling layers is exactly the same as the naive versions that you implemented above: the forward pass receives data, weights, and parameters and produces outputs and a cache object; the backward pass recieves upstream derivatives and the cache object and produces gradients with respect to the data and weights.\n\n**NOTE:** The fast implementation for pooling will only perform optimally if the pooling regions are non-overlapping and tile the input. If these conditions are not met then the fast pooling implementation will not be much faster than the naive implementation.\n\nYou can compare the performance of the naive and fast versions of these layers by running the following:",
   "metadata": {
    "editable": true,
    "deletable": true,
    "cell_id": "00013-4ed5b80e-07fe-45e2-8499-38a571578530",
    "deepnote_cell_type": "markdown",
    "deepnote_cell_height": 420.390625
   }
  },
  {
   "cell_type": "code",
   "metadata": {
    "collapsed": false,
    "editable": true,
    "deletable": true,
    "cell_id": "00014-09033e7b-d4df-48d5-8240-848e63e2253b",
    "deepnote_to_be_reexecuted": false,
    "source_hash": "90d3640d",
    "execution_start": 1665989452631,
    "execution_millis": 23220,
    "deepnote_cell_type": "code",
    "deepnote_cell_height": 941
   },
   "source": "from cs231n.fast_layers import conv_forward_fast, conv_backward_fast\nfrom time import time\nnp.random.seed(231)\nx = np.random.randn(100, 3, 31, 31)\nw = np.random.randn(25, 3, 3, 3)\nb = np.random.randn(25,)\ndout = np.random.randn(100, 25, 16, 16)\nconv_param = {'stride': 2, 'pad': 1}\n\nt0 = time()\nout_naive, cache_naive = conv_forward_naive(x, w, b, conv_param)\nt1 = time()\nout_fast, cache_fast = conv_forward_fast(x, w, b, conv_param)\nt2 = time()\n\nprint('Testing conv_forward_fast:')\nprint('Naive: %fs' % (t1 - t0))\nprint('Fast: %fs' % (t2 - t1))\nprint('Speedup: %fx' % ((t1 - t0) / (t2 - t1)))\nprint('Difference: ', rel_error(out_naive, out_fast))\n\nt0 = time()\ndx_naive, dw_naive, db_naive = conv_backward_naive(dout, cache_naive)\nt1 = time()\ndx_fast, dw_fast, db_fast = conv_backward_fast(dout, cache_fast)\nt2 = time()\n\nprint('\\nTesting conv_backward_fast:')\nprint('Naive: %fs' % (t1 - t0))\nprint('Fast: %fs' % (t2 - t1))\nprint('Speedup: %fx' % ((t1 - t0) / (t2 - t1)))\nprint('dx difference: ', rel_error(dx_naive, dx_fast))\nprint('dw difference: ', rel_error(dw_naive, dw_fast))\nprint('db difference: ', rel_error(db_naive, db_fast))",
   "execution_count": 8,
   "outputs": [
    {
     "name": "stdout",
     "text": "Testing conv_forward_fast:\nNaive: 9.362070s\nFast: 0.050027s\nSpeedup: 187.141636x\nDifference:  4.926407851494105e-11\n\nTesting conv_backward_fast:\nNaive: 12.758527s\nFast: 0.783649s\nSpeedup: 16.280926x\ndx difference:  1.949764775345631e-11\ndw difference:  3.9797731230817755e-13\ndb difference:  0.0\n",
     "output_type": "stream"
    }
   ]
  },
  {
   "cell_type": "code",
   "metadata": {
    "collapsed": false,
    "editable": true,
    "deletable": true,
    "cell_id": "00015-50a16d72-738a-4037-9286-bb411f27239d",
    "deepnote_to_be_reexecuted": false,
    "source_hash": "f9d9de79",
    "execution_start": 1665989533970,
    "execution_millis": 3037,
    "deepnote_cell_type": "code",
    "deepnote_cell_height": 773
   },
   "source": "from cs231n.fast_layers import max_pool_forward_fast, max_pool_backward_fast\nnp.random.seed(231)\nx = np.random.randn(100, 3, 32, 32)\ndout = np.random.randn(100, 3, 16, 16)\npool_param = {'pool_height': 2, 'pool_width': 2, 'stride': 2}\n\nt0 = time()\nout_naive, cache_naive = max_pool_forward_naive(x, pool_param)\nt1 = time()\nout_fast, cache_fast = max_pool_forward_fast(x, pool_param)\nt2 = time()\n\nprint('Testing pool_forward_fast:')\nprint('Naive: %fs' % (t1 - t0))\nprint('fast: %fs' % (t2 - t1))\nprint('speedup: %fx' % ((t1 - t0) / (t2 - t1)))\nprint('difference: ', rel_error(out_naive, out_fast))\n\nt0 = time()\ndx_naive = max_pool_backward_naive(dout, cache_naive)\nt1 = time()\ndx_fast = max_pool_backward_fast(dout, cache_fast)\nt2 = time()\n\nprint('\\nTesting pool_backward_fast:')\nprint('Naive: %fs' % (t1 - t0))\nprint('speedup: %fx' % ((t1 - t0) / (t2 - t1)))\nprint('dx difference: ', rel_error(dx_naive, dx_fast))",
   "execution_count": 9,
   "outputs": [
    {
     "name": "stdout",
     "text": "Testing pool_forward_fast:\nNaive: 0.871709s\nfast: 0.009210s\nspeedup: 94.644534x\ndifference:  0.0\n\nTesting pool_backward_fast:\nNaive: 1.758633s\nspeedup: 95.360655x\ndx difference:  0.0\n",
     "output_type": "stream"
    }
   ]
  },
  {
   "cell_type": "markdown",
   "source": "# Convolutional \"sandwich\" layers\nPreviously we introduced the concept of \"sandwich\" layers that combine multiple operations into commonly used patterns. In the file `cs231n/layer_utils.py` you will find sandwich layers that implement a few commonly used patterns for convolutional networks.",
   "metadata": {
    "editable": true,
    "deletable": true,
    "cell_id": "00016-f855a8bb-aa08-4769-8aac-f040e6b94d66",
    "deepnote_cell_type": "markdown",
    "deepnote_cell_height": 165
   }
  },
  {
   "cell_type": "code",
   "metadata": {
    "collapsed": false,
    "editable": true,
    "deletable": true,
    "cell_id": "00017-10ed5744-1cb6-499f-973e-12b0ee7d5342",
    "deepnote_to_be_reexecuted": false,
    "source_hash": "f8be81eb",
    "execution_start": 1665989542591,
    "execution_millis": 1112,
    "deepnote_cell_type": "code",
    "deepnote_cell_height": 514
   },
   "source": "from cs231n.layer_utils import conv_relu_pool_forward, conv_relu_pool_backward\nnp.random.seed(231)\nx = np.random.randn(2, 3, 16, 16)\nw = np.random.randn(3, 3, 3, 3)\nb = np.random.randn(3,)\ndout = np.random.randn(2, 3, 8, 8)\nconv_param = {'stride': 1, 'pad': 1}\npool_param = {'pool_height': 2, 'pool_width': 2, 'stride': 2}\n\nout, cache = conv_relu_pool_forward(x, w, b, conv_param, pool_param)\ndx, dw, db = conv_relu_pool_backward(dout, cache)\n\ndx_num = eval_numerical_gradient_array(lambda x: conv_relu_pool_forward(x, w, b, conv_param, pool_param)[0], x, dout)\ndw_num = eval_numerical_gradient_array(lambda w: conv_relu_pool_forward(x, w, b, conv_param, pool_param)[0], w, dout)\ndb_num = eval_numerical_gradient_array(lambda b: conv_relu_pool_forward(x, w, b, conv_param, pool_param)[0], b, dout)\n\nprint('Testing conv_relu_pool')\nprint('dx error: ', rel_error(dx_num, dx))\nprint('dw error: ', rel_error(dw_num, dw))\nprint('db error: ', rel_error(db_num, db))",
   "execution_count": 10,
   "outputs": [
    {
     "name": "stdout",
     "text": "Testing conv_relu_pool\ndx error:  9.591132621921372e-09\ndw error:  5.802455944849637e-09\ndb error:  3.57960501324485e-10\n",
     "output_type": "stream"
    }
   ]
  },
  {
   "cell_type": "code",
   "metadata": {
    "collapsed": false,
    "editable": true,
    "deletable": true,
    "cell_id": "00018-06797bb4-ad4f-4f82-91d8-4b3ccef82129",
    "deepnote_to_be_reexecuted": false,
    "source_hash": "2f9f7954",
    "execution_start": 1665989546556,
    "execution_millis": 297,
    "deepnote_cell_type": "code",
    "deepnote_cell_height": 491
   },
   "source": "from cs231n.layer_utils import conv_relu_forward, conv_relu_backward\nnp.random.seed(231)\nx = np.random.randn(2, 3, 8, 8)\nw = np.random.randn(3, 3, 3, 3)\nb = np.random.randn(3,)\ndout = np.random.randn(2, 3, 8, 8)\nconv_param = {'stride': 1, 'pad': 1}\n\nout, cache = conv_relu_forward(x, w, b, conv_param)\ndx, dw, db = conv_relu_backward(dout, cache)\n\ndx_num = eval_numerical_gradient_array(lambda x: conv_relu_forward(x, w, b, conv_param)[0], x, dout)\ndw_num = eval_numerical_gradient_array(lambda w: conv_relu_forward(x, w, b, conv_param)[0], w, dout)\ndb_num = eval_numerical_gradient_array(lambda b: conv_relu_forward(x, w, b, conv_param)[0], b, dout)\n\nprint('Testing conv_relu:')\nprint('dx error: ', rel_error(dx_num, dx))\nprint('dw error: ', rel_error(dw_num, dw))\nprint('db error: ', rel_error(db_num, db))",
   "execution_count": 11,
   "outputs": [
    {
     "name": "stdout",
     "text": "Testing conv_relu:\ndx error:  1.5218619980349303e-09\ndw error:  3.3715893156038223e-10\ndb error:  4.8422803898140394e-11\n",
     "output_type": "stream"
    }
   ]
  },
  {
   "cell_type": "markdown",
   "source": "# Three-layer ConvNet\nNow that you have implemented all the necessary layers, we can put them together into a simple convolutional network.\n\nOpen the file `cs231n/classifiers/cnn.py` and complete the implementation of the `ThreeLayerConvNet` class. Run the following cells to help you debug:",
   "metadata": {
    "editable": true,
    "deletable": true,
    "cell_id": "00019-9a92e947-b86e-4edf-aeee-727cb4c62e06",
    "deepnote_cell_type": "markdown",
    "deepnote_cell_height": 179
   }
  },
  {
   "cell_type": "markdown",
   "source": "## Sanity check loss\nAfter you build a new network, one of the first things you should do is sanity check the loss. When we use the softmax loss, we expect the loss for random weights (and no regularization) to be about `log(C)` for `C` classes. When we add regularization this should go up.",
   "metadata": {
    "editable": true,
    "deletable": true,
    "cell_id": "00020-b74721c2-a76d-4570-9064-512468e87245",
    "deepnote_cell_type": "markdown",
    "deepnote_cell_height": 153
   }
  },
  {
   "cell_type": "code",
   "metadata": {
    "collapsed": false,
    "editable": true,
    "deletable": true,
    "cell_id": "00021-64ed6681-99c5-4436-9480-42a7a6699d6f",
    "deepnote_to_be_reexecuted": false,
    "source_hash": "e4c1fd2",
    "execution_start": 1665990823772,
    "execution_millis": 4411,
    "deepnote_cell_type": "code",
    "deepnote_cell_height": 325
   },
   "source": "model = ThreeLayerConvNet()\n\nN = 50\nX = np.random.randn(N, 3, 32, 32)\ny = np.random.randint(10, size=N)\n\nloss, grads = model.loss(X, y)\nprint('Initial loss (no regularization): ', loss)\n\nmodel.reg = 0.5\nloss, grads = model.loss(X, y)\nprint('Initial loss (with regularization): ', loss)",
   "execution_count": 14,
   "outputs": [
    {
     "name": "stdout",
     "text": "Initial loss (no regularization):  2.3025872235554186\nInitial loss (with regularization):  2.5085781638878313\n",
     "output_type": "stream"
    }
   ]
  },
  {
   "cell_type": "markdown",
   "source": "## Gradient check\nAfter the loss looks reasonable, use numeric gradient checking to make sure that your backward pass is correct. When you use numeric gradient checking you should use a small amount of artifical data and a small number of neurons at each layer. Note: correct implementations may still have relative errors up to 1e-2.",
   "metadata": {
    "editable": true,
    "deletable": true,
    "cell_id": "00022-eaa4044c-af70-48cf-b5bb-7444fd422891",
    "deepnote_cell_type": "markdown",
    "deepnote_cell_height": 153
   }
  },
  {
   "cell_type": "code",
   "metadata": {
    "collapsed": false,
    "editable": true,
    "deletable": true,
    "cell_id": "00023-ff790211-98c4-4acf-a505-81ebc45aa46e",
    "deepnote_to_be_reexecuted": false,
    "source_hash": "f97283c0",
    "execution_start": 1665990831973,
    "execution_millis": 3717,
    "deepnote_cell_type": "code",
    "deepnote_cell_height": 495
   },
   "source": "num_inputs = 2\ninput_dim = (3, 16, 16)\nreg = 0.0\nnum_classes = 10\nnp.random.seed(231)\nX = np.random.randn(num_inputs, *input_dim)\ny = np.random.randint(num_classes, size=num_inputs)\n\nmodel = ThreeLayerConvNet(num_filters=3, filter_size=3,\n                          input_dim=input_dim, hidden_dim=7,\n                          dtype=np.float64)\nloss, grads = model.loss(X, y)\nfor param_name in sorted(grads):\n    f = lambda _: model.loss(X, y)[0]\n    param_grad_num = eval_numerical_gradient(f, model.params[param_name], verbose=False, h=1e-6)\n    e = rel_error(param_grad_num, grads[param_name])\n    print('%s max relative error: %e' % (param_name, rel_error(param_grad_num, grads[param_name])))",
   "execution_count": 15,
   "outputs": [
    {
     "name": "stdout",
     "text": "W1 max relative error: 3.414341e-04\nW2 max relative error: 1.822723e-02\nW3 max relative error: 3.422460e-04\nb1 max relative error: 3.477652e-05\nb2 max relative error: 2.517459e-03\nb3 max relative error: 7.945660e-10\n",
     "output_type": "stream"
    }
   ]
  },
  {
   "cell_type": "markdown",
   "source": "## Overfit small data\nA nice trick is to train your model with just a few training samples. You should be able to overfit small datasets, which will result in very high training accuracy and comparatively low validation accuracy.",
   "metadata": {
    "editable": true,
    "deletable": true,
    "cell_id": "00024-993c5dbd-32eb-4523-b025-d08439dd386e",
    "deepnote_cell_type": "markdown",
    "deepnote_cell_height": 130.796875
   }
  },
  {
   "cell_type": "code",
   "metadata": {
    "collapsed": false,
    "editable": true,
    "deletable": true,
    "cell_id": "00025-4d6252dc-736f-48da-b30e-46501684af16",
    "deepnote_to_be_reexecuted": false,
    "source_hash": "5a3a9613",
    "execution_start": 1665990894846,
    "execution_millis": 204196,
    "deepnote_cell_type": "code",
    "deepnote_cell_height": 1038
   },
   "source": "np.random.seed(231)\n\nnum_train = 100\nsmall_data = {\n  'X_train': data['X_train'][:num_train],\n  'y_train': data['y_train'][:num_train],\n  'X_val': data['X_val'],\n  'y_val': data['y_val'],\n}\n\nmodel = ThreeLayerConvNet(weight_scale=1e-2)\n\nsolver = Solver(model, small_data,\n                num_epochs=15, batch_size=50,\n                update_rule='adam',\n                optim_config={\n                  'learning_rate': 1e-3,\n                },\n                verbose=True, print_every=1)\nsolver.train()",
   "execution_count": 16,
   "outputs": [
    {
     "name": "stdout",
     "text": "(Iteration 1 / 30) loss: 2.414060\n(Epoch 0 / 15) train acc: 0.190000; val_acc: 0.128000\n(Iteration 2 / 30) loss: 2.609504\n(Epoch 1 / 15) train acc: 0.230000; val_acc: 0.094000\n(Iteration 3 / 30) loss: 2.113380\n(Iteration 4 / 30) loss: 1.971811\n(Epoch 2 / 15) train acc: 0.310000; val_acc: 0.098000\n(Iteration 5 / 30) loss: 1.676728\n(Iteration 6 / 30) loss: 1.801782\n(Epoch 3 / 15) train acc: 0.570000; val_acc: 0.191000\n(Iteration 7 / 30) loss: 1.652683\n(Iteration 8 / 30) loss: 1.598651\n(Epoch 4 / 15) train acc: 0.570000; val_acc: 0.194000\n(Iteration 9 / 30) loss: 1.070849\n(Iteration 10 / 30) loss: 1.408982\n(Epoch 5 / 15) train acc: 0.740000; val_acc: 0.188000\n(Iteration 11 / 30) loss: 0.816042\n(Iteration 12 / 30) loss: 0.807953\n(Epoch 6 / 15) train acc: 0.820000; val_acc: 0.256000\n(Iteration 13 / 30) loss: 0.971160\n(Iteration 14 / 30) loss: 0.568949\n(Epoch 7 / 15) train acc: 0.860000; val_acc: 0.236000\n(Iteration 15 / 30) loss: 0.394380\n(Iteration 16 / 30) loss: 0.401405\n(Epoch 8 / 15) train acc: 0.910000; val_acc: 0.194000\n(Iteration 17 / 30) loss: 0.723469\n(Iteration 18 / 30) loss: 0.258560\n(Epoch 9 / 15) train acc: 0.910000; val_acc: 0.169000\n(Iteration 19 / 30) loss: 0.242372\n(Iteration 20 / 30) loss: 0.235556\n(Epoch 10 / 15) train acc: 0.940000; val_acc: 0.199000\n(Iteration 21 / 30) loss: 0.212628\n(Iteration 22 / 30) loss: 0.126721\n(Epoch 11 / 15) train acc: 0.940000; val_acc: 0.213000\n(Iteration 23 / 30) loss: 0.113127\n(Iteration 24 / 30) loss: 0.270010\n(Epoch 12 / 15) train acc: 0.970000; val_acc: 0.204000\n(Iteration 25 / 30) loss: 0.067624\n(Iteration 26 / 30) loss: 0.081088\n(Epoch 13 / 15) train acc: 1.000000; val_acc: 0.207000\n(Iteration 27 / 30) loss: 0.029606\n(Iteration 28 / 30) loss: 0.051089\n(Epoch 14 / 15) train acc: 1.000000; val_acc: 0.209000\n(Iteration 29 / 30) loss: 0.027549\n(Iteration 30 / 30) loss: 0.025578\n(Epoch 15 / 15) train acc: 1.000000; val_acc: 0.209000\n",
     "output_type": "stream"
    }
   ]
  },
  {
   "cell_type": "markdown",
   "source": "Plotting the loss, training accuracy, and validation accuracy should show clear overfitting:",
   "metadata": {
    "editable": true,
    "deletable": true,
    "cell_id": "00026-559e5e24-3c70-499e-8573-0feda93e64ff",
    "deepnote_cell_type": "markdown",
    "deepnote_cell_height": 52.390625
   }
  },
  {
   "cell_type": "code",
   "metadata": {
    "collapsed": false,
    "editable": true,
    "deletable": true,
    "cell_id": "00027-99ec8d02-2a51-4c58-86da-e5d011d01590",
    "deepnote_to_be_reexecuted": false,
    "source_hash": "44cb3dea",
    "execution_start": 1665991099057,
    "execution_millis": 2791,
    "deepnote_cell_type": "code",
    "deepnote_cell_height": 900,
    "deepnote_output_heights": [
     610
    ]
   },
   "source": "plt.subplot(2, 1, 1)\nplt.plot(solver.loss_history, 'o')\nplt.xlabel('iteration')\nplt.ylabel('loss')\n\nplt.subplot(2, 1, 2)\nplt.plot(solver.train_acc_history, '-o')\nplt.plot(solver.val_acc_history, '-o')\nplt.legend(['train', 'val'], loc='upper left')\nplt.xlabel('epoch')\nplt.ylabel('accuracy')\nplt.show()",
   "execution_count": 17,
   "outputs": [
    {
     "data": {
      "text/plain": "<Figure size 1000x800 with 2 Axes>",
      "image/png": "[encoded data removed]"
     },
     "metadata": {
      "image/png": {
       "width": 846,
       "height": 679
      }
     },
     "output_type": "display_data"
    }
   ]
  },
  {
   "cell_type": "markdown",
   "source": "## Train the net\nBy training the three-layer convolutional network for one epoch, you should achieve greater than 40% accuracy on the training set:",
   "metadata": {
    "editable": true,
    "deletable": true,
    "cell_id": "00028-3ac3a773-b978-45f1-a124-238abb12d79a",
    "deepnote_cell_type": "markdown",
    "deepnote_cell_height": 130.796875
   }
  },
  {
   "cell_type": "code",
   "metadata": {
    "scrolled": false,
    "collapsed": false,
    "editable": true,
    "deletable": true,
    "cell_id": "00029-cd0cb446-6923-49e6-8b1e-0ab663e93935",
    "deepnote_to_be_reexecuted": false,
    "source_hash": "891928cb",
    "execution_start": 1665991101311,
    "execution_millis": 2218273,
    "deepnote_cell_type": "code",
    "deepnote_cell_height": 858
   },
   "source": "model = ThreeLayerConvNet(weight_scale=0.001, hidden_dim=500, reg=0.001)\n\nsolver = Solver(model, data,\n                num_epochs=1, batch_size=50,\n                update_rule='adam',\n                optim_config={\n                  'learning_rate': 1e-3,\n                },\n                verbose=True, print_every=20)\nsolver.train()",
   "execution_count": 18,
   "outputs": [
    {
     "name": "stdout",
     "text": "(Iteration 1 / 980) loss: 2.304740\n(Epoch 0 / 1) train acc: 0.103000; val_acc: 0.107000\n(Iteration 21 / 980) loss: 2.132736\n(Iteration 41 / 980) loss: 1.890223\n(Iteration 61 / 980) loss: 1.790478\n(Iteration 81 / 980) loss: 1.745026\n(Iteration 101 / 980) loss: 1.892161\n(Iteration 121 / 980) loss: 1.890149\n(Iteration 141 / 980) loss: 1.964029\n(Iteration 161 / 980) loss: 1.741861\n(Iteration 181 / 980) loss: 1.886438\n(Iteration 201 / 980) loss: 1.958140\n(Iteration 221 / 980) loss: 1.789366\n(Iteration 241 / 980) loss: 1.693459\n(Iteration 261 / 980) loss: 1.507454\n(Iteration 281 / 980) loss: 1.622408\n(Iteration 301 / 980) loss: 1.845511\n(Iteration 321 / 980) loss: 1.737180\n(Iteration 341 / 980) loss: 1.680309\n(Iteration 361 / 980) loss: 1.749498\n(Iteration 381 / 980) loss: 1.420701\n(Iteration 401 / 980) loss: 1.685015\n(Iteration 421 / 980) loss: 1.733135\n(Iteration 441 / 980) loss: 1.591582\n(Iteration 461 / 980) loss: 1.700545\n(Iteration 481 / 980) loss: 1.492935\n(Iteration 501 / 980) loss: 1.404087\n(Iteration 521 / 980) loss: 1.712702\n(Iteration 541 / 980) loss: 1.459696\n(Iteration 561 / 980) loss: 1.607686\n(Iteration 581 / 980) loss: 1.232315\n(Iteration 601 / 980) loss: 1.641778\n(Iteration 621 / 980) loss: 1.560701\n(Iteration 641 / 980) loss: 1.642898\n(Iteration 661 / 980) loss: 1.651685\n(Iteration 681 / 980) loss: 1.799905\n(Iteration 701 / 980) loss: 1.447530\n(Iteration 721 / 980) loss: 1.538806\n(Iteration 741 / 980) loss: 1.893407\n(Iteration 761 / 980) loss: 1.408911\n(Iteration 781 / 980) loss: 2.160169\n(Iteration 801 / 980) loss: 1.850402\n(Iteration 821 / 980) loss: 1.542580\n(Iteration 841 / 980) loss: 1.441510\n(Iteration 861 / 980) loss: 1.779246\n(Iteration 881 / 980) loss: 1.656049\n(Iteration 901 / 980) loss: 1.455208\n(Iteration 921 / 980) loss: 1.820103\n(Iteration 941 / 980) loss: 1.526195\n(Iteration 961 / 980) loss: 1.639982\n(Epoch 1 / 1) train acc: 0.484000; val_acc: 0.485000\n",
     "output_type": "stream"
    }
   ]
  },
  {
   "cell_type": "markdown",
   "source": "## Visualize Filters\nYou can visualize the first-layer convolutional filters from the trained network by running the following:",
   "metadata": {
    "editable": true,
    "deletable": true,
    "cell_id": "00030-25578857-4d7a-45bc-af25-90f2493725ac",
    "deepnote_cell_type": "markdown",
    "deepnote_cell_height": 108.390625
   }
  },
  {
   "cell_type": "code",
   "metadata": {
    "collapsed": false,
    "editable": true,
    "deletable": true,
    "cell_id": "00031-d0ba7702-1d5a-4dc4-8363-bf55cce556cd",
    "deepnote_to_be_reexecuted": false,
    "source_hash": "1e0459ea",
    "execution_start": 1665993319596,
    "execution_millis": 1691,
    "deepnote_cell_type": "code",
    "deepnote_cell_height": 606,
    "deepnote_output_heights": [
     406
    ]
   },
   "source": "from cs231n.vis_utils import visualize_grid\n\ngrid = visualize_grid(model.params['W1'].transpose(0, 2, 3, 1))\nplt.imshow(grid.astype('uint8'))\nplt.axis('off')\nplt.gcf().set_size_inches(5, 5)\nplt.show()",
   "execution_count": 19,
   "outputs": [
    {
     "data": {
      "text/plain": "<Figure size 500x500 with 1 Axes>",
      "image/png": "[encoded data removed]"
     },
     "metadata": {
      "image/png": {
       "width": 404,
       "height": 405
      }
     },
     "output_type": "display_data"
    }
   ]
  },
  {
   "cell_type": "markdown",
   "source": "# Spatial Batch Normalization\nWe already saw that batch normalization is a very useful technique for training deep fully-connected networks. Batch normalization can also be used for convolutional networks, but we need to tweak it a bit; the modification will be called \"spatial batch normalization.\"\n\nNormally batch-normalization accepts inputs of shape `(N, D)` and produces outputs of shape `(N, D)`, where we normalize across the minibatch dimension `N`. For data coming from convolutional layers, batch normalization needs to accept inputs of shape `(N, C, H, W)` and produce outputs of shape `(N, C, H, W)` where the `N` dimension gives the minibatch size and the `(H, W)` dimensions give the spatial size of the feature map.\n\nIf the feature map was produced using convolutions, then we expect the statistics of each feature channel to be relatively consistent both between different imagesand different locations within the same image. Therefore spatial batch normalization computes a mean and variance for each of the `C` feature channels by computing statistics over both the minibatch dimension `N` and the spatial dimensions `H` and `W`.",
   "metadata": {
    "editable": true,
    "deletable": true,
    "cell_id": "00032-d55be555-2fcd-4704-82ec-c977b6e009d6",
    "deepnote_cell_type": "markdown",
    "deepnote_cell_height": 372.390625
   }
  },
  {
   "cell_type": "markdown",
   "source": "## Spatial batch normalization: forward\n\nIn the file `cs231n/layers.py`, implement the forward pass for spatial batch normalization in the function `spatial_batchnorm_forward`. Check your implementation by running the following:",
   "metadata": {
    "editable": true,
    "deletable": true,
    "cell_id": "00033-e6f37ffb-648d-409a-a13f-997296533c78",
    "deepnote_cell_type": "markdown",
    "deepnote_cell_height": 130.796875
   }
  },
  {
   "cell_type": "code",
   "metadata": {
    "collapsed": false,
    "editable": true,
    "deletable": true,
    "cell_id": "00034-b35b46b4-0eae-48df-bcb5-1556c27ca44d",
    "deepnote_to_be_reexecuted": false,
    "source_hash": "b929d7fa",
    "execution_start": 1665993355106,
    "execution_millis": 65,
    "deepnote_cell_type": "code",
    "deepnote_cell_height": 813
   },
   "source": "np.random.seed(231)\n# Check the training-time forward pass by checking means and variances\n# of features both before and after spatial batch normalization\n\nN, C, H, W = 2, 3, 4, 5\nx = 4 * np.random.randn(N, C, H, W) + 10\n\nprint('Before spatial batch normalization:')\nprint('  Shape: ', x.shape)\nprint('  Means: ', x.mean(axis=(0, 2, 3)))\nprint('  Stds: ', x.std(axis=(0, 2, 3)))\n\n# Means should be close to zero and stds close to one\ngamma, beta = np.ones(C), np.zeros(C)\nbn_param = {'mode': 'train'}\nout, _ = spatial_batchnorm_forward(x, gamma, beta, bn_param)\nprint('After spatial batch normalization:')\nprint('  Shape: ', out.shape)\nprint('  Means: ', out.mean(axis=(0, 2, 3)))\nprint('  Stds: ', out.std(axis=(0, 2, 3)))\n\n# Means should be close to beta and stds close to gamma\ngamma, beta = np.asarray([3, 4, 5]), np.asarray([6, 7, 8])\nout, _ = spatial_batchnorm_forward(x, gamma, beta, bn_param)\nprint('After spatial batch normalization (nontrivial gamma, beta):')\nprint('  Shape: ', out.shape)\nprint('  Means: ', out.mean(axis=(0, 2, 3)))\nprint('  Stds: ', out.std(axis=(0, 2, 3)))",
   "execution_count": 22,
   "outputs": [
    {
     "name": "stdout",
     "text": "Before spatial batch normalization:\n  Shape:  (2, 3, 4, 5)\n  Means:  [9.33463814 8.90909116 9.11056338]\n  Stds:  [3.61447857 3.19347686 3.5168142 ]\nAfter spatial batch normalization:\n  Shape:  (2, 3, 4, 5)\n  Means:  [ 6.18949336e-16  5.99520433e-16 -1.22124533e-16]\n  Stds:  [0.99999962 0.99999951 0.9999996 ]\nAfter spatial batch normalization (nontrivial gamma, beta):\n  Shape:  (2, 3, 4, 5)\n  Means:  [6. 7. 8.]\n  Stds:  [2.99999885 3.99999804 4.99999798]\n",
     "output_type": "stream"
    }
   ]
  },
  {
   "cell_type": "code",
   "metadata": {
    "collapsed": false,
    "editable": true,
    "deletable": true,
    "cell_id": "00035-b6394c22-539c-4c46-afce-ac26246e1d62",
    "deepnote_to_be_reexecuted": false,
    "source_hash": "b7c7e324",
    "execution_start": 1665993320634,
    "execution_millis": 665,
    "deepnote_cell_type": "code",
    "deepnote_cell_height": 525
   },
   "source": "np.random.seed(231)\n# Check the test-time forward pass by running the training-time\n# forward pass many times to warm up the running averages, and then\n# checking the means and variances of activations after a test-time\n# forward pass.\nN, C, H, W = 10, 4, 11, 12\n\nbn_param = {'mode': 'train'}\ngamma = np.ones(C)\nbeta = np.zeros(C)\nfor t in range(50):\n  x = 2.3 * np.random.randn(N, C, H, W) + 13\n  spatial_batchnorm_forward(x, gamma, beta, bn_param)\nbn_param['mode'] = 'test'\nx = 2.3 * np.random.randn(N, C, H, W) + 13\na_norm, _ = spatial_batchnorm_forward(x, gamma, beta, bn_param)\n\n# Means should be close to zero and stds close to one, but will be\n# noisier than training-time forward passes.\nprint('After spatial batch normalization (test-time):')\nprint('  means: ', a_norm.mean(axis=(0, 2, 3)))\nprint('  stds: ', a_norm.std(axis=(0, 2, 3)))",
   "execution_count": 20,
   "outputs": [
    {
     "name": "stdout",
     "text": "After spatial batch normalization (test-time):\n  means:  [-0.08034406  0.07562881  0.05716371  0.04378383]\n  stds:  [0.96718744 1.0299714  1.02887624 1.00585577]\n",
     "output_type": "stream"
    }
   ]
  },
  {
   "cell_type": "markdown",
   "source": "## Spatial batch normalization: backward\nIn the file `cs231n/layers.py`, implement the backward pass for spatial batch normalization in the function `spatial_batchnorm_backward`. Run the following to check your implementation using a numeric gradient check:",
   "metadata": {
    "editable": true,
    "deletable": true,
    "cell_id": "00036-fc263c4a-3b78-46c5-83a9-39c4ae56df00",
    "deepnote_cell_type": "markdown",
    "deepnote_cell_height": 130.796875
   }
  },
  {
   "cell_type": "code",
   "metadata": {
    "collapsed": false,
    "editable": true,
    "deletable": true,
    "cell_id": "00037-11fb42cf-eec5-42d0-8a94-9ac8e0f3ca98",
    "deepnote_to_be_reexecuted": false,
    "source_hash": "1de69a21",
    "execution_start": 1665993320826,
    "execution_millis": 475,
    "deepnote_cell_type": "code",
    "deepnote_cell_height": 507
   },
   "source": "np.random.seed(231)\nN, C, H, W = 2, 3, 4, 5\nx = 5 * np.random.randn(N, C, H, W) + 12\ngamma = np.random.randn(C)\nbeta = np.random.randn(C)\ndout = np.random.randn(N, C, H, W)\n\nbn_param = {'mode': 'train'}\nfx = lambda x: spatial_batchnorm_forward(x, gamma, beta, bn_param)[0]\nfg = lambda a: spatial_batchnorm_forward(x, gamma, beta, bn_param)[0]\nfb = lambda b: spatial_batchnorm_forward(x, gamma, beta, bn_param)[0]\n\ndx_num = eval_numerical_gradient_array(fx, x, dout)\nda_num = eval_numerical_gradient_array(fg, gamma, dout)\ndb_num = eval_numerical_gradient_array(fb, beta, dout)\n\n_, cache = spatial_batchnorm_forward(x, gamma, beta, bn_param)\ndx, dgamma, dbeta = spatial_batchnorm_backward(dout, cache)\nprint('dx error: ', rel_error(dx_num, dx))\nprint('dgamma error: ', rel_error(da_num, dgamma))\nprint('dbeta error: ', rel_error(db_num, dbeta))",
   "execution_count": 21,
   "outputs": [
    {
     "name": "stdout",
     "text": "dx error:  2.7866481899887757e-07\ndgamma error:  7.09738489671469e-12\ndbeta error:  3.275608725278405e-12\n",
     "output_type": "stream"
    }
   ]
  },
  {
   "cell_type": "markdown",
   "source": "# Extra Credit Description\nIf you implement any additional features for extra credit, clearly describe them here with pointers to any code in this or other files if applicable.",
   "metadata": {
    "cell_id": "00038-04036000-34ac-402c-9130-a12c6a58d7a0",
    "deepnote_cell_type": "markdown",
    "deepnote_cell_height": 142.796875
   }
  },
  {
   "cell_type": "markdown",
   "source": "<a style='text-decoration:none;line-height:16px;display:flex;color:#5B5B62;padding:10px;justify-content:end;' href='https://deepnote.com?utm_source=created-in-deepnote-cell&projectId=394314bc-87db-40f1-a9ae-47afa67263f9' target=\"_blank\">\n<img alt='Created in deepnote.com' style='display:inline;max-height:16px;margin:0px;margin-right:7.5px;' src='data:image/svg+xml;base64,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' > </img>\nCreated in <span style='font-weight:600;margin-left:4px;'>Deepnote</span></a>",
   "metadata": {
    "tags": [],
    "created_in_deepnote_cell": true,
    "deepnote_cell_type": "markdown"
   }
  }
 ],
 "nbformat": 4,
 "nbformat_minor": 0,
 "metadata": {
  "kernelspec": {
   "display_name": "Python 3",
   "name": "python3",
   "language": "python"
  },
  "language_info": {
   "mimetype": "text/x-python",
   "nbconvert_exporter": "python",
   "name": "python",
   "file_extension": ".py",
   "version": "3.5.0",
   "pygments_lexer": "ipython3",
   "codemirror_mode": {
    "version": 3,
    "name": "ipython"
   }
  },
  "deepnote_notebook_id": "7061b4ec-3f24-481c-90d3-5a5099ff41fb",
  "deepnote": {},
  "deepnote_execution_queue": []
 }
}