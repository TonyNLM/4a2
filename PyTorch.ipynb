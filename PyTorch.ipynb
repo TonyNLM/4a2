{
 "cells": [
  {
   "cell_type": "markdown",
   "source": "# Training a ConvNet PyTorch\n\nIn this notebook, you'll learn how to use the powerful PyTorch framework to specify a conv net architecture and train it on the CIFAR-10 dataset.",
   "metadata": {
    "cell_id": "68ffd7ab-ec43-43fb-bb72-f43f1b6aa859",
    "deepnote_cell_type": "markdown",
    "deepnote_cell_height": 142.796875
   }
  },
  {
   "cell_type": "code",
   "metadata": {
    "collapsed": false,
    "cell_id": "00001-8df155b9-1951-49f7-9055-371534318add",
    "deepnote_to_be_reexecuted": false,
    "source_hash": "6ceeff8f",
    "execution_start": 1666191538281,
    "execution_millis": 3622,
    "deepnote_cell_type": "code",
    "deepnote_cell_height": 292
   },
   "source": "import torch\nimport torch.nn as nn\nimport torch.optim as optim\nfrom torch.autograd import Variable\nfrom torch.utils.data import DataLoader\nfrom torch.utils.data import sampler\n\nimport torchvision.datasets as dset\nimport torchvision.transforms as T\n\nimport numpy as np\n\nimport timeit",
   "outputs": [],
   "execution_count": null
  },
  {
   "cell_type": "markdown",
   "source": "## What's this PyTorch business?\n\nYou've written a lot of code in this assignment to provide a whole host of neural network functionality. Dropout, Batch Norm, and 2D convolutions are some of the workhorses of deep learning in computer vision. You've also worked hard to make your code efficient and vectorized.\n\nFor the last part of this assignment, though, we're going to leave behind your beautiful codebase and instead migrate to one of two popular deep learning frameworks: in this instance, PyTorch (or TensorFlow, if you switch over to that notebook). \n\nWhy?\n\n* Our code will now run on GPUs! Much faster training. When using a framework like PyTorch or TensorFlow you can harness the power of the GPU for your own custom neural network architectures without having to write CUDA code directly (which is beyond the scope of this class).\n* We want you to be ready to use one of these frameworks for your project so you can experiment more efficiently than if you were writing every feature you want to use by hand. \n* We want you to stand on the shoulders of giants! TensorFlow and PyTorch are both excellent frameworks that will make your lives a lot easier, and now that you understand their guts, you are free to use them :) \n* We want you to be exposed to the sort of deep learning code you might run into in academia or industry. ",
   "metadata": {
    "cell_id": "00002-1b234fa4-7b04-461d-8f59-08e6cc571d44",
    "deepnote_cell_type": "markdown",
    "deepnote_cell_height": 464.59375
   }
  },
  {
   "cell_type": "markdown",
   "source": "## How will I learn PyTorch?\n\nIf you've used Torch before, but are new to PyTorch, this tutorial might be of use: http://pytorch.org/tutorials/beginner/former_torchies_tutorial.html\n\nOtherwise, this notebook will walk you through much of what you need to do to train models in Torch. See the end of the notebook for some links to helpful tutorials if you want to learn more or need further clarification on topics that aren't fully explained here.",
   "metadata": {
    "cell_id": "00003-3ffbee80-2ae9-4326-b493-35d9ec980413",
    "deepnote_cell_type": "markdown",
    "deepnote_cell_height": 189.59375
   }
  },
  {
   "cell_type": "markdown",
   "source": "## Load Datasets\n\nWe load the CIFAR-10 dataset. This might take a couple minutes the first time you do it, but the files should stay cached after that.",
   "metadata": {
    "cell_id": "00004-f34e78e4-a6bb-4e50-a969-70c1388d09cb",
    "deepnote_cell_type": "markdown",
    "deepnote_cell_height": 108.390625
   }
  },
  {
   "cell_type": "code",
   "metadata": {
    "collapsed": false,
    "cell_id": "00005-e2508277-4fb4-4c7b-8ae6-e61c5d2b008e",
    "deepnote_to_be_reexecuted": false,
    "source_hash": "7e8def06",
    "execution_start": 1666191541909,
    "execution_millis": 3184,
    "deepnote_cell_type": "code",
    "deepnote_cell_height": 687
   },
   "source": "class ChunkSampler(sampler.Sampler):\n    \"\"\"Samples elements sequentially from some offset. \n    Arguments:\n        num_samples: # of desired datapoints\n        start: offset where we should start selecting from\n    \"\"\"\n    def __init__(self, num_samples, start = 0):\n        self.num_samples = num_samples\n        self.start = start\n\n    def __iter__(self):\n        return iter(range(self.start, self.start + self.num_samples))\n\n    def __len__(self):\n        return self.num_samples\n\nNUM_TRAIN = 49000\nNUM_VAL = 1000\n\ncifar10_train = dset.CIFAR10('./cs231n/datasets', train=True, download=True,\n                           transform=T.ToTensor())\nloader_train = DataLoader(cifar10_train, batch_size=64, sampler=ChunkSampler(NUM_TRAIN, 0))\n\ncifar10_val = dset.CIFAR10('./cs231n/datasets', train=True, download=True,\n                           transform=T.ToTensor())\nloader_val = DataLoader(cifar10_val, batch_size=64, sampler=ChunkSampler(NUM_VAL, NUM_TRAIN))\n\ncifar10_test = dset.CIFAR10('./cs231n/datasets', train=False, download=True,\n                          transform=T.ToTensor())\nloader_test = DataLoader(cifar10_test, batch_size=64)\n",
   "outputs": [
    {
     "name": "stdout",
     "text": "Files already downloaded and verified\nFiles already downloaded and verified\nFiles already downloaded and verified\n",
     "output_type": "stream"
    }
   ],
   "execution_count": null
  },
  {
   "cell_type": "markdown",
   "source": "For now, we're going to use a CPU-friendly datatype. Later, we'll switch to a datatype that will move all our computations to the GPU and measure the speedup.",
   "metadata": {
    "cell_id": "00006-c1916223-68fa-403f-b062-9f6e25a2a24b",
    "deepnote_cell_type": "markdown",
    "deepnote_cell_height": 74.796875
   }
  },
  {
   "cell_type": "code",
   "metadata": {
    "collapsed": true,
    "cell_id": "00007-412ad923-17a5-4e98-89ea-d7f97d5d49b3",
    "deepnote_to_be_reexecuted": false,
    "source_hash": "89e52e5a",
    "execution_start": 1666191544665,
    "execution_millis": 3,
    "deepnote_cell_type": "code",
    "deepnote_cell_height": 238
   },
   "source": "dtype = torch.FloatTensor # the CPU datatype\n\n# Constant to control how frequently we print train loss\nprint_every = 100\n\n# This is a little utility that we'll use to reset the model\n# if we want to re-initialize all our parameters\ndef reset(m):\n    if hasattr(m, 'reset_parameters'):\n        m.reset_parameters()",
   "outputs": [],
   "execution_count": null
  },
  {
   "cell_type": "markdown",
   "source": "## Example Model\n\n### Some assorted tidbits\n\nLet's start by looking at a simple model. First, note that PyTorch operates on Tensors, which are n-dimensional arrays functionally analogous to numpy's ndarrays, with the additional feature that they can be used for computations on GPUs.\n\nWe'll provide you with a Flatten function, which we explain here. Remember that our image data (and more relevantly, our intermediate feature maps) are initially N x C x H x W, where:\n* N is the number of datapoints\n* C is the number of channels\n* H is the height of the intermediate feature map in pixels\n* W is the height of the intermediate feature map in pixels\n\nThis is the right way to represent the data when we are doing something like a 2D convolution, that needs spatial understanding of where the intermediate features are relative to each other. When we input  data into fully connected affine layers, however, we want each datapoint to be represented by a single vector -- it's no longer useful to segregate the different channels, rows, and columns of the data. So, we use a \"Flatten\" operation to collapse the C x H x W values per representation into a single long vector. The Flatten function below first reads in the N, C, H, and W values from a given batch of data, and then returns a \"view\" of that data. \"View\" is analogous to numpy's \"reshape\" method: it reshapes x's dimensions to be N x ??, where ?? is allowed to be anything (in this case, it will be C x H x W, but we don't need to specify that explicitly). ",
   "metadata": {
    "cell_id": "00008-e3d7251f-5d4c-4dc4-bae7-d8b81cf19c10",
    "deepnote_cell_type": "markdown",
    "deepnote_cell_height": 521
   }
  },
  {
   "cell_type": "code",
   "metadata": {
    "collapsed": true,
    "cell_id": "00009-5966de64-aa12-46f8-bb24-0cd02709c7df",
    "deepnote_to_be_reexecuted": false,
    "source_hash": "c598f80b",
    "execution_start": 1666191544671,
    "execution_millis": 3,
    "deepnote_cell_type": "code",
    "deepnote_cell_height": 130
   },
   "source": "class Flatten(nn.Module):\n    def forward(self, x):\n        N, C, H, W = x.size() # read in N, C, H, W\n        return x.view(N, -1)  # \"flatten\" the C * H * W values into a single vector per image",
   "outputs": [],
   "execution_count": null
  },
  {
   "cell_type": "markdown",
   "source": "### The example model itself\n\nThe first step to training your own model is defining its architecture.\n\nHere's an example of a convolutional neural network defined in PyTorch -- try to understand what each line is doing, remembering that each layer is composed upon the previous layer. We haven't trained anything yet - that'll come next - for now, we want you to understand how everything gets set up.  nn.Sequential is a container which applies each layer\none after the other.\n\nIn that example, you see 2D convolutional layers (Conv2d), ReLU activations, and fully-connected layers (Linear). You also see the Cross-Entropy loss function, and the Adam optimizer being used. \n\nMake sure you understand why the parameters of the Linear layer are 5408 and 10.\n",
   "metadata": {
    "cell_id": "00010-b3fb0c81-3b47-4281-973a-1350a73b7096",
    "deepnote_cell_type": "markdown",
    "deepnote_cell_height": 299.1875
   }
  },
  {
   "cell_type": "code",
   "metadata": {
    "collapsed": false,
    "cell_id": "00011-21454235-e886-4f55-8bd3-05a8f85f12ec",
    "deepnote_to_be_reexecuted": false,
    "source_hash": "2239b6cc",
    "execution_start": 1666191544678,
    "execution_millis": 2,
    "deepnote_cell_type": "code",
    "deepnote_cell_height": 292
   },
   "source": "# Here's where we define the architecture of the model... \nsimple_model = nn.Sequential(\n                nn.Conv2d(3, 32, kernel_size=7, stride=2),\n                nn.ReLU(inplace=True),\n                Flatten(), # see above for explanation\n                nn.Linear(5408, 10), # affine layer\n              )\n\n# Set the type of all data in this model to be FloatTensor \nsimple_model.type(dtype)\n\nloss_fn = nn.CrossEntropyLoss().type(dtype)\noptimizer = optim.Adam(simple_model.parameters(), lr=1e-2) # lr sets the learning rate of the optimizer",
   "outputs": [],
   "execution_count": null
  },
  {
   "cell_type": "markdown",
   "source": "PyTorch supports many other layer types, loss functions, and optimizers - you will experiment with these next. Here's the official API documentation for these (if any of the parameters used above were unclear, this resource will also be helpful). One note: what we call in the class \"spatial batch norm\" is called \"BatchNorm2D\" in PyTorch.\n\n* Layers: http://pytorch.org/docs/nn.html\n* Activations: http://pytorch.org/docs/nn.html#non-linear-activations\n* Loss functions: http://pytorch.org/docs/nn.html#loss-functions\n* Optimizers: http://pytorch.org/docs/optim.html#algorithms",
   "metadata": {
    "cell_id": "00012-0774f916-6e47-4115-9106-55dc95164a5c",
    "deepnote_cell_type": "markdown",
    "deepnote_cell_height": 223.796875
   }
  },
  {
   "cell_type": "markdown",
   "source": "## Training a specific model\n\nIn this section, we're going to specify a model for you to construct. The goal here isn't to get good performance (that'll be next), but instead to get comfortable with understanding the PyTorch documentation and configuring your own model. \n\nUsing the code provided above as guidance, and using the following PyTorch documentation, specify a model with the following architecture:\n\n* 7x7 Convolutional Layer with 32 filters and stride of 1\n* ReLU Activation Layer\n* Spatial Batch Normalization Layer\n* 2x2 Max Pooling layer with a stride of 2\n* Affine layer with 1024 output units\n* ReLU Activation Layer\n* Affine layer from 1024 input units to 10 outputs\n\nAnd finally, set up a **cross-entropy** loss function and the **RMSprop** learning rule.",
   "metadata": {
    "cell_id": "00013-1f22e331-1089-4476-9d43-e52f912fb730",
    "deepnote_cell_type": "markdown",
    "deepnote_cell_height": 414.796875
   }
  },
  {
   "cell_type": "code",
   "source": "fixed_model_base = nn.Sequential( # You fill this in!\n    nn.Conv2d(3,32,kernel_size=7,stride=1),\n    nn.ReLU(),\n    nn.BatchNorm2d(32),\n    nn.MaxPool2d(2,stride=2),\n    Flatten(),\n    nn.Linear(5408, 1024),\n    nn.ReLU(),\n    nn.Linear(1024,10)\n    )\n\nfixed_model_base.type(dtype)\n\nloss_fn = nn.CrossEntropyLoss().type(dtype)\n\nfixed_model = fixed_model_base.type(dtype)\n\noptimizer = optim.RMSprop(fixed_model.parameters())",
   "metadata": {
    "collapsed": false,
    "cell_id": "00014-76253166-214d-4df3-93d2-0a7d0ebdb3ce",
    "deepnote_to_be_reexecuted": false,
    "source_hash": "db9f9fa0",
    "execution_start": 1666191565173,
    "execution_millis": 40,
    "deepnote_cell_type": "code",
    "deepnote_cell_height": 382
   },
   "outputs": [],
   "execution_count": null
  },
  {
   "cell_type": "markdown",
   "source": "To make sure you're doing the right thing, use the following tool to check the dimensionality of your output (it should be 64 x 10, since our batches have size 64 and the output of the final affine layer should be 10, corresponding to our 10 classes):",
   "metadata": {
    "cell_id": "00015-3cdddfb1-db2a-4fa2-8aec-ee3972d63fc0",
    "deepnote_cell_type": "markdown",
    "deepnote_cell_height": 74.796875
   }
  },
  {
   "cell_type": "code",
   "metadata": {
    "collapsed": false,
    "cell_id": "00016-475c962d-edcc-48f3-9077-5a47b544231c",
    "deepnote_to_be_reexecuted": false,
    "source_hash": "e68aae0f",
    "execution_start": 1666191568389,
    "execution_millis": 59,
    "deepnote_cell_type": "code",
    "deepnote_cell_height": 261.1875,
    "deepnote_output_heights": [
     20.1875
    ]
   },
   "source": "## Now we're going to feed a random batch into the model you defined and make sure the output is the right size\nx = torch.randn(64, 3, 32, 32).type(dtype)\nx_var = Variable(x.type(dtype)) # Construct a PyTorch Variable out of your input data\nans = fixed_model(x_var)        # Feed it through the model! \n\n# Check to make sure what comes out of your model\n# is the right dimensionality... this should be True\n# if you've done everything correctly\nnp.array_equal(np.array(ans.size()), np.array([64, 10]))       ",
   "outputs": [
    {
     "output_type": "execute_result",
     "execution_count": 9,
     "data": {
      "text/plain": "True"
     },
     "metadata": {}
    }
   ],
   "execution_count": null
  },
  {
   "cell_type": "markdown",
   "source": "### GPU!\n\nNow, we're going to switch the dtype of the model and our data to the GPU-friendly tensors, and see what happens... everything is the same, except we are casting our model and input tensors as this new dtype instead of the old one.\n\nIf this returns false, or otherwise fails in a not-graceful way (i.e., with some error message), you may not have an NVIDIA GPU available on your machine. If you're running locally, we recommend you switch to Google Cloud and follow the instructions to set up a GPU there. If you're already on Google Cloud, something is wrong -- make sure you followed the instructions on how to request and use a GPU on your instance. If you did, post on Piazza or come to Office Hours so we can help you debug.",
   "metadata": {
    "cell_id": "00017-783d0659-0d19-4c48-8a6b-8fa28a4a29c4",
    "deepnote_cell_type": "markdown",
    "deepnote_cell_height": 226.390625
   }
  },
  {
   "cell_type": "code",
   "metadata": {
    "collapsed": false,
    "cell_id": "00018-cef661aa-7e76-46c0-85f3-1ffa66b9ebef",
    "deepnote_to_be_reexecuted": false,
    "source_hash": "5945a809",
    "execution_start": 1666191571673,
    "execution_millis": 4,
    "deepnote_cell_type": "code",
    "deepnote_cell_height": 148.1875,
    "deepnote_output_heights": [
     20.1875
    ]
   },
   "source": "# Verify that CUDA is properly configured and you have a GPU available\n\ntorch.cuda.is_available()",
   "outputs": [
    {
     "output_type": "execute_result",
     "execution_count": 10,
     "data": {
      "text/plain": "False"
     },
     "metadata": {}
    }
   ],
   "execution_count": null
  },
  {
   "cell_type": "code",
   "metadata": {
    "collapsed": false,
    "cell_id": "00019-4d3a68ed-92f5-4301-b1fc-8077b9c58749",
    "deepnote_to_be_reexecuted": false,
    "source_hash": "2e318f80",
    "execution_start": 1666191588441,
    "execution_millis": 494,
    "deepnote_cell_type": "code",
    "deepnote_cell_height": 374.390625
   },
   "source": "import copy\ngpu_dtype = torch.cuda.FloatTensor\n\nfixed_model_gpu = copy.deepcopy(fixed_model_base).type(gpu_dtype)\n\nx_gpu = torch.randn(64, 3, 32, 32).type(gpu_dtype)\nx_var_gpu = Variable(x.type(gpu_dtype)) # Construct a PyTorch Variable out of your input data\nans = fixed_model_gpu(x_var_gpu)        # Feed it through the model! \n\n# Check to make sure what comes out of your model\n# is the right dimensionality... this should be True\n# if you've done everything correctly\nnp.array_equal(np.array(ans.size()), np.array([64, 10]))",
   "outputs": [
    {
     "output_type": "error",
     "ename": "RuntimeError",
     "evalue": "Found no NVIDIA driver on your system. Please check that you have an NVIDIA GPU and installed a driver from http://www.nvidia.com/Download/index.aspx",
     "traceback": [
      "\u001b[0;31m---------------------------------------------------------------------------\u001b[0m",
      "\u001b[0;31mRuntimeError\u001b[0m                              Traceback (most recent call last)",
      "Cell \u001b[0;32mIn [11], line 4\u001b[0m\n\u001b[1;32m      1\u001b[0m \u001b[38;5;28;01mimport\u001b[39;00m \u001b[38;5;21;01mcopy\u001b[39;00m\n\u001b[1;32m      2\u001b[0m gpu_dtype \u001b[38;5;241m=\u001b[39m torch\u001b[38;5;241m.\u001b[39mcuda\u001b[38;5;241m.\u001b[39mFloatTensor\n\u001b[0;32m----> 4\u001b[0m fixed_model_gpu \u001b[38;5;241m=\u001b[39m \u001b[43mcopy\u001b[49m\u001b[38;5;241;43m.\u001b[39;49m\u001b[43mdeepcopy\u001b[49m\u001b[43m(\u001b[49m\u001b[43mfixed_model_base\u001b[49m\u001b[43m)\u001b[49m\u001b[38;5;241;43m.\u001b[39;49m\u001b[43mtype\u001b[49m\u001b[43m(\u001b[49m\u001b[43mgpu_dtype\u001b[49m\u001b[43m)\u001b[49m\n\u001b[1;32m      6\u001b[0m x_gpu \u001b[38;5;241m=\u001b[39m torch\u001b[38;5;241m.\u001b[39mrandn(\u001b[38;5;241m64\u001b[39m, \u001b[38;5;241m3\u001b[39m, \u001b[38;5;241m32\u001b[39m, \u001b[38;5;241m32\u001b[39m)\u001b[38;5;241m.\u001b[39mtype(gpu_dtype)\n\u001b[1;32m      7\u001b[0m x_var_gpu \u001b[38;5;241m=\u001b[39m Variable(x\u001b[38;5;241m.\u001b[39mtype(gpu_dtype)) \u001b[38;5;66;03m# Construct a PyTorch Variable out of your input data\u001b[39;00m\n",
      "File \u001b[0;32m/shared-libs/python3.9/py/lib/python3.9/site-packages/torch/nn/modules/module.py:752\u001b[0m, in \u001b[0;36mModule.type\u001b[0;34m(self, dst_type)\u001b[0m\n\u001b[1;32m    740\u001b[0m \u001b[38;5;28;01mdef\u001b[39;00m \u001b[38;5;21mtype\u001b[39m(\u001b[38;5;28mself\u001b[39m: T, dst_type: Union[dtype, \u001b[38;5;28mstr\u001b[39m]) \u001b[38;5;241m-\u001b[39m\u001b[38;5;241m>\u001b[39m T:\n\u001b[1;32m    741\u001b[0m     \u001b[38;5;124mr\u001b[39m\u001b[38;5;124;03m\"\"\"Casts all parameters and buffers to :attr:`dst_type`.\u001b[39;00m\n\u001b[1;32m    742\u001b[0m \n\u001b[1;32m    743\u001b[0m \u001b[38;5;124;03m    .. note::\u001b[39;00m\n\u001b[0;32m   (...)\u001b[0m\n\u001b[1;32m    750\u001b[0m \u001b[38;5;124;03m        Module: self\u001b[39;00m\n\u001b[1;32m    751\u001b[0m \u001b[38;5;124;03m    \"\"\"\u001b[39;00m\n\u001b[0;32m--> 752\u001b[0m     \u001b[38;5;28;01mreturn\u001b[39;00m \u001b[38;5;28;43mself\u001b[39;49m\u001b[38;5;241;43m.\u001b[39;49m\u001b[43m_apply\u001b[49m\u001b[43m(\u001b[49m\u001b[38;5;28;43;01mlambda\u001b[39;49;00m\u001b[43m \u001b[49m\u001b[43mt\u001b[49m\u001b[43m:\u001b[49m\u001b[43m \u001b[49m\u001b[43mt\u001b[49m\u001b[38;5;241;43m.\u001b[39;49m\u001b[43mtype\u001b[49m\u001b[43m(\u001b[49m\u001b[43mdst_type\u001b[49m\u001b[43m)\u001b[49m\u001b[43m)\u001b[49m\n",
      "File \u001b[0;32m/shared-libs/python3.9/py/lib/python3.9/site-packages/torch/nn/modules/module.py:579\u001b[0m, in \u001b[0;36mModule._apply\u001b[0;34m(self, fn)\u001b[0m\n\u001b[1;32m    577\u001b[0m \u001b[38;5;28;01mdef\u001b[39;00m \u001b[38;5;21m_apply\u001b[39m(\u001b[38;5;28mself\u001b[39m, fn):\n\u001b[1;32m    578\u001b[0m     \u001b[38;5;28;01mfor\u001b[39;00m module \u001b[38;5;129;01min\u001b[39;00m \u001b[38;5;28mself\u001b[39m\u001b[38;5;241m.\u001b[39mchildren():\n\u001b[0;32m--> 579\u001b[0m         \u001b[43mmodule\u001b[49m\u001b[38;5;241;43m.\u001b[39;49m\u001b[43m_apply\u001b[49m\u001b[43m(\u001b[49m\u001b[43mfn\u001b[49m\u001b[43m)\u001b[49m\n\u001b[1;32m    581\u001b[0m     \u001b[38;5;28;01mdef\u001b[39;00m \u001b[38;5;21mcompute_should_use_set_data\u001b[39m(tensor, tensor_applied):\n\u001b[1;32m    582\u001b[0m         \u001b[38;5;28;01mif\u001b[39;00m torch\u001b[38;5;241m.\u001b[39m_has_compatible_shallow_copy_type(tensor, tensor_applied):\n\u001b[1;32m    583\u001b[0m             \u001b[38;5;66;03m# If the new tensor has compatible tensor type as the existing tensor,\u001b[39;00m\n\u001b[1;32m    584\u001b[0m             \u001b[38;5;66;03m# the current behavior is to change the tensor in-place using `.data =`,\u001b[39;00m\n\u001b[0;32m   (...)\u001b[0m\n\u001b[1;32m    589\u001b[0m             \u001b[38;5;66;03m# global flag to let the user control whether they want the future\u001b[39;00m\n\u001b[1;32m    590\u001b[0m             \u001b[38;5;66;03m# behavior of overwriting the existing tensor or not.\u001b[39;00m\n",
      "File \u001b[0;32m/shared-libs/python3.9/py/lib/python3.9/site-packages/torch/nn/modules/module.py:602\u001b[0m, in \u001b[0;36mModule._apply\u001b[0;34m(self, fn)\u001b[0m\n\u001b[1;32m    598\u001b[0m \u001b[38;5;66;03m# Tensors stored in modules are graph leaves, and we don't want to\u001b[39;00m\n\u001b[1;32m    599\u001b[0m \u001b[38;5;66;03m# track autograd history of `param_applied`, so we have to use\u001b[39;00m\n\u001b[1;32m    600\u001b[0m \u001b[38;5;66;03m# `with torch.no_grad():`\u001b[39;00m\n\u001b[1;32m    601\u001b[0m \u001b[38;5;28;01mwith\u001b[39;00m torch\u001b[38;5;241m.\u001b[39mno_grad():\n\u001b[0;32m--> 602\u001b[0m     param_applied \u001b[38;5;241m=\u001b[39m \u001b[43mfn\u001b[49m\u001b[43m(\u001b[49m\u001b[43mparam\u001b[49m\u001b[43m)\u001b[49m\n\u001b[1;32m    603\u001b[0m should_use_set_data \u001b[38;5;241m=\u001b[39m compute_should_use_set_data(param, param_applied)\n\u001b[1;32m    604\u001b[0m \u001b[38;5;28;01mif\u001b[39;00m should_use_set_data:\n",
      "File \u001b[0;32m/shared-libs/python3.9/py/lib/python3.9/site-packages/torch/nn/modules/module.py:752\u001b[0m, in \u001b[0;36mModule.type.<locals>.<lambda>\u001b[0;34m(t)\u001b[0m\n\u001b[1;32m    740\u001b[0m \u001b[38;5;28;01mdef\u001b[39;00m \u001b[38;5;21mtype\u001b[39m(\u001b[38;5;28mself\u001b[39m: T, dst_type: Union[dtype, \u001b[38;5;28mstr\u001b[39m]) \u001b[38;5;241m-\u001b[39m\u001b[38;5;241m>\u001b[39m T:\n\u001b[1;32m    741\u001b[0m     \u001b[38;5;124mr\u001b[39m\u001b[38;5;124;03m\"\"\"Casts all parameters and buffers to :attr:`dst_type`.\u001b[39;00m\n\u001b[1;32m    742\u001b[0m \n\u001b[1;32m    743\u001b[0m \u001b[38;5;124;03m    .. note::\u001b[39;00m\n\u001b[0;32m   (...)\u001b[0m\n\u001b[1;32m    750\u001b[0m \u001b[38;5;124;03m        Module: self\u001b[39;00m\n\u001b[1;32m    751\u001b[0m \u001b[38;5;124;03m    \"\"\"\u001b[39;00m\n\u001b[0;32m--> 752\u001b[0m     \u001b[38;5;28;01mreturn\u001b[39;00m \u001b[38;5;28mself\u001b[39m\u001b[38;5;241m.\u001b[39m_apply(\u001b[38;5;28;01mlambda\u001b[39;00m t: \u001b[43mt\u001b[49m\u001b[38;5;241;43m.\u001b[39;49m\u001b[43mtype\u001b[49m\u001b[43m(\u001b[49m\u001b[43mdst_type\u001b[49m\u001b[43m)\u001b[49m)\n",
      "\u001b[0;31mRuntimeError\u001b[0m: Found no NVIDIA driver on your system. Please check that you have an NVIDIA GPU and installed a driver from http://www.nvidia.com/Download/index.aspx"
     ]
    }
   ],
   "execution_count": null
  },
  {
   "cell_type": "markdown",
   "source": "Run the following cell to evaluate the performance of the forward pass running on the CPU:",
   "metadata": {
    "cell_id": "00020-8ffd72b4-a941-4481-90a8-76eccc602f9a",
    "deepnote_cell_type": "markdown",
    "deepnote_cell_height": 52.390625
   }
  },
  {
   "cell_type": "code",
   "metadata": {
    "collapsed": false,
    "cell_id": "00021-eb238ad2-e9a2-4d31-830e-7b7573a09112",
    "deepnote_to_be_reexecuted": false,
    "source_hash": "b7ec1504",
    "execution_start": 1666191620191,
    "execution_millis": 4257,
    "deepnote_cell_type": "code",
    "deepnote_cell_height": 125
   },
   "source": "%%timeit \nans = fixed_model(x_var)",
   "outputs": [
    {
     "name": "stdout",
     "text": "53 ms ± 4.15 ms per loop (mean ± std. dev. of 7 runs, 10 loops each)\n",
     "output_type": "stream"
    }
   ],
   "execution_count": null
  },
  {
   "cell_type": "markdown",
   "source": "... and now the GPU:",
   "metadata": {
    "cell_id": "00022-a365e0b4-7664-4691-abf3-ea5b1c130bb7",
    "deepnote_cell_type": "markdown",
    "deepnote_cell_height": 52.390625
   }
  },
  {
   "cell_type": "code",
   "metadata": {
    "collapsed": false,
    "cell_id": "00023-102d378b-2863-4f6f-9121-fd5f1f53e847",
    "deepnote_to_be_reexecuted": true,
    "source_hash": "783c7bce",
    "deepnote_cell_type": "code",
    "deepnote_cell_height": 130
   },
   "source": "%%timeit \ntorch.cuda.synchronize() # Make sure there are no pending GPU computations\nans = fixed_model_gpu(x_var_gpu)        # Feed it through the model! \ntorch.cuda.synchronize() # Make sure there are no pending GPU computations",
   "execution_count": null,
   "outputs": []
  },
  {
   "cell_type": "markdown",
   "source": "You should observe that even a simple forward pass like this is significantly faster on the GPU. So for the rest of the assignment (and when you go train your models in assignment 3 and your project!), you should use the GPU datatype for your model and your tensors: as a reminder that is *torch.cuda.FloatTensor* (in our notebook here as *gpu_dtype*)",
   "metadata": {
    "cell_id": "00024-5dca84ef-060c-48e0-82ee-4f93478ffa9b",
    "deepnote_cell_type": "markdown",
    "deepnote_cell_height": 97.1875
   }
  },
  {
   "cell_type": "markdown",
   "source": "### Train the model.\n\nNow that you've seen how to define a model and do a single forward pass of some data through it, let's  walk through how you'd actually train one whole epoch over your training data (using the simple_model we provided above).\n\nMake sure you understand how each PyTorch function used below corresponds to what you implemented in your custom neural network implementation.\n\nNote that because we are not resetting the weights anywhere below, if you run the cell multiple times, you are effectively training multiple epochs (so your performance should improve).\n\nFirst, set up an RMSprop optimizer (using a 1e-3 learning rate) and a cross-entropy loss function:",
   "metadata": {
    "cell_id": "00025-8846b916-b132-4cda-8753-e7e17bee0c01",
    "deepnote_cell_type": "markdown",
    "deepnote_cell_height": 276.796875
   }
  },
  {
   "cell_type": "code",
   "source": "\nloss_fn = nn.CrossEntropyLoss().type(dtype)\n\n\noptimizer = optim.RMSprop(fixed_model_gpu.parameters(), lr=1e-3)\n",
   "metadata": {
    "collapsed": true,
    "cell_id": "00026-f4ef7edd-b51d-4e47-a13c-c6c8e676eb7f",
    "deepnote_to_be_reexecuted": false,
    "source_hash": "e17169d9",
    "execution_start": 1666191782385,
    "execution_millis": 2,
    "deepnote_cell_type": "code",
    "deepnote_cell_height": 166
   },
   "outputs": [],
   "execution_count": null
  },
  {
   "cell_type": "code",
   "metadata": {
    "collapsed": false,
    "cell_id": "00027-811a383b-a51e-495a-8957-8e41b8f73d36",
    "deepnote_to_be_reexecuted": false,
    "source_hash": "a1a14e51",
    "execution_start": 1666192318703,
    "execution_millis": 5,
    "deepnote_cell_type": "code",
    "deepnote_cell_height": 612.1875
   },
   "source": "# This sets the model in \"training\" mode. This is relevant for some layers that may have different behavior\n# in training mode vs testing mode, such as Dropout and BatchNorm. \nfixed_model_gpu.train()\n\n# Load one batch at a time.\nfor t, (x, y) in enumerate(loader_train):\n    x_var = Variable(x.type(gpu_dtype))\n    y_var = Variable(y.type(gpu_dtype).long())\n\n    # This is the forward pass: predict the scores for each class, for each x in the batch.\n    scores = fixed_model_gpu(x_var)\n    \n    # Use the correct y values and the predicted y values to compute the loss.\n    loss = loss_fn(scores, y_var)\n    \n    if (t + 1) % print_every == 0:\n        print('t = %d, loss = %.4f' % (t + 1, loss.data[0]))\n\n    # Zero out all of the gradients for the variables which the optimizer will update.\n    optimizer.zero_grad()\n    \n    # This is the backwards pass: compute the gradient of the loss with respect to each \n    # parameter of the model.\n    loss.backward()\n    \n    # Actually update the parameters of the model using the gradients computed by the backwards pass.\n    optimizer.step()",
   "outputs": [
    {
     "output_type": "error",
     "ename": "NameError",
     "evalue": "name 'fixed_model_gpu' is not defined",
     "traceback": [
      "\u001b[0;31m---------------------------------------------------------------------------\u001b[0m",
      "\u001b[0;31mNameError\u001b[0m                                 Traceback (most recent call last)",
      "Cell \u001b[0;32mIn [17], line 3\u001b[0m\n\u001b[1;32m      1\u001b[0m \u001b[38;5;66;03m# This sets the model in \"training\" mode. This is relevant for some layers that may have different behavior\u001b[39;00m\n\u001b[1;32m      2\u001b[0m \u001b[38;5;66;03m# in training mode vs testing mode, such as Dropout and BatchNorm. \u001b[39;00m\n\u001b[0;32m----> 3\u001b[0m \u001b[43mfixed_model_gpu\u001b[49m\u001b[38;5;241m.\u001b[39mtrain()\n\u001b[1;32m      5\u001b[0m \u001b[38;5;66;03m# Load one batch at a time.\u001b[39;00m\n\u001b[1;32m      6\u001b[0m \u001b[38;5;28;01mfor\u001b[39;00m t, (x, y) \u001b[38;5;129;01min\u001b[39;00m \u001b[38;5;28menumerate\u001b[39m(loader_train):\n",
      "\u001b[0;31mNameError\u001b[0m: name 'fixed_model_gpu' is not defined"
     ]
    }
   ],
   "execution_count": null
  },
  {
   "cell_type": "markdown",
   "source": "Now you've seen how the training process works in PyTorch. To save you writing boilerplate code, we're providing the following helper functions to help you train for multiple epochs and check the accuracy of your model:",
   "metadata": {
    "cell_id": "00028-86dc64f7-7cfe-462b-94f6-fe4c2f45dfd7",
    "deepnote_cell_type": "markdown",
    "deepnote_cell_height": 74.796875
   }
  },
  {
   "cell_type": "code",
   "metadata": {
    "collapsed": true,
    "cell_id": "00029-dbe8df9e-6da7-49bd-b538-2da468b1d004",
    "deepnote_to_be_reexecuted": false,
    "source_hash": "3707da8e",
    "execution_start": 1666192309694,
    "execution_millis": 6,
    "deepnote_cell_type": "code",
    "deepnote_cell_height": 688
   },
   "source": "def train(model, loss_fn, optimizer, num_epochs = 1):\n    for epoch in range(num_epochs):\n        print('Starting epoch %d / %d' % (epoch + 1, num_epochs))\n        model.train()\n        for t, (x, y) in enumerate(loader_train):\n            x_var = Variable(x.type(gpu_dtype))\n            y_var = Variable(y.type(gpu_dtype).long())\n\n            scores = model(x_var)\n            \n            loss = loss_fn(scores, y_var)\n            if (t + 1) % print_every == 0:\n                print('t = %d, loss = %.4f' % (t + 1, loss.data[0]))\n\n            optimizer.zero_grad()\n            loss.backward()\n            optimizer.step()\n\ndef check_accuracy(model, loader):\n    if loader.dataset.train:\n        print('Checking accuracy on validation set')\n    else:\n        print('Checking accuracy on test set')   \n    num_correct = 0\n    num_samples = 0\n    model.eval() # Put the model in test mode (the opposite of model.train(), essentially)\n    for x, y in loader:\n        x_var = Variable(x.type(gpu_dtype), volatile=True)\n\n        scores = model(x_var)\n        _, preds = scores.data.cpu().max(1)\n        num_correct += (preds == y).sum()\n        num_samples += preds.size(0)\n    acc = float(num_correct) / num_samples\n    print('Got %d / %d correct (%.2f)' % (num_correct, num_samples, 100 * acc))",
   "outputs": [],
   "execution_count": null
  },
  {
   "cell_type": "markdown",
   "source": "### Check the accuracy of the model.\n\nLet's see the train and check_accuracy code in action -- feel free to use these methods when evaluating the models you develop below.\n\nYou should get a training loss of around 1.2-1.4, and a validation accuracy of around 50-60%. As mentioned above, if you re-run the cells, you'll be training more epochs, so your performance will improve past these numbers.\n\nBut don't worry about getting these numbers better -- this was just practice before you tackle designing your own model.",
   "metadata": {
    "cell_id": "00030-9f372547-8034-4f83-9017-1e0fd834ef98",
    "deepnote_cell_type": "markdown",
    "deepnote_cell_height": 218
   }
  },
  {
   "cell_type": "code",
   "metadata": {
    "collapsed": false,
    "cell_id": "00031-c12565f2-971e-491f-8a2e-c7414bf2cea8",
    "deepnote_to_be_reexecuted": false,
    "source_hash": "5dcf0834",
    "execution_start": 1666192312466,
    "execution_millis": 28,
    "deepnote_cell_type": "code",
    "deepnote_cell_height": 193.1875
   },
   "source": "torch.cuda.random.manual_seed(12345)\nfixed_model_gpu.apply(reset)\ntrain(fixed_model_gpu, loss_fn, optimizer, num_epochs=1)\ncheck_accuracy(fixed_model_gpu, loader_val)",
   "outputs": [
    {
     "output_type": "error",
     "ename": "NameError",
     "evalue": "name 'fixed_model_gpu' is not defined",
     "traceback": [
      "\u001b[0;31m---------------------------------------------------------------------------\u001b[0m",
      "\u001b[0;31mNameError\u001b[0m                                 Traceback (most recent call last)",
      "Cell \u001b[0;32mIn [16], line 2\u001b[0m\n\u001b[1;32m      1\u001b[0m torch\u001b[38;5;241m.\u001b[39mcuda\u001b[38;5;241m.\u001b[39mrandom\u001b[38;5;241m.\u001b[39mmanual_seed(\u001b[38;5;241m12345\u001b[39m)\n\u001b[0;32m----> 2\u001b[0m \u001b[43mfixed_model_gpu\u001b[49m\u001b[38;5;241m.\u001b[39mapply(reset)\n\u001b[1;32m      3\u001b[0m train(fixed_model_gpu, loss_fn, optimizer, num_epochs\u001b[38;5;241m=\u001b[39m\u001b[38;5;241m1\u001b[39m)\n\u001b[1;32m      4\u001b[0m check_accuracy(fixed_model_gpu, loader_val)\n",
      "\u001b[0;31mNameError\u001b[0m: name 'fixed_model_gpu' is not defined"
     ]
    }
   ],
   "execution_count": null
  },
  {
   "cell_type": "markdown",
   "source": "### Don't forget the validation set!\n\nAnd note that you can use the check_accuracy function to evaluate on either the test set or the validation set, by passing either **loader_test** or **loader_val** as the second argument to check_accuracy. You should not touch the test set until you have finished your architecture and hyperparameter tuning, and only run the test set once at the end to report a final value. ",
   "metadata": {
    "cell_id": "00032-7d3f0430-080e-47cc-80bc-aec6dbd450c5",
    "deepnote_cell_type": "markdown",
    "deepnote_cell_height": 145.1875
   }
  },
  {
   "cell_type": "markdown",
   "source": "## Train a _great_ model on CIFAR-10!\n\nNow it's your job to experiment with architectures, hyperparameters, loss functions, and optimizers to train a model that achieves **>=70%** accuracy on the CIFAR-10 **validation** set. You can use the check_accuracy and train functions from above.",
   "metadata": {
    "cell_id": "00033-155fc8e7-b3ad-4cca-8567-f6807ede24fe",
    "deepnote_cell_type": "markdown",
    "deepnote_cell_height": 130.796875
   }
  },
  {
   "cell_type": "markdown",
   "source": "### Things you should try:\n- **Filter size**: Above we used 7x7; this makes pretty pictures but smaller filters may be more efficient\n- **Number of filters**: Above we used 32 filters. Do more or fewer do better?\n- **Pooling vs Strided Convolution**: Do you use max pooling or just stride convolutions?\n- **Batch normalization**: Try adding spatial batch normalization after convolution layers and vanilla batch normalization after affine layers. Do your networks train faster?\n- **Network architecture**: The network above has two layers of trainable parameters. Can you do better with a deep network? Good architectures to try include:\n    - [conv-relu-pool]xN -> [affine]xM -> [softmax or SVM]\n    - [conv-relu-conv-relu-pool]xN -> [affine]xM -> [softmax or SVM]\n    - [batchnorm-relu-conv]xN -> [affine]xM -> [softmax or SVM]\n- **Global Average Pooling**: Instead of flattening and then having multiple affine layers, perform convolutions until your image gets small (7x7 or so) and then perform an average pooling operation to get to a 1x1 image picture (1, 1 , Filter#), which is then reshaped into a (Filter#) vector. This is used in [Google's Inception Network](https://arxiv.org/abs/1512.00567) (See Table 1 for their architecture).\n- **Regularization**: Add l2 weight regularization, or perhaps use Dropout.\n\n### Tips for training\nFor each network architecture that you try, you should tune the learning rate and regularization strength. When doing this there are a couple important things to keep in mind:\n\n- If the parameters are working well, you should see improvement within a few hundred iterations\n- Remember the coarse-to-fine approach for hyperparameter tuning: start by testing a large range of hyperparameters for just a few training iterations to find the combinations of parameters that are working at all.\n- Once you have found some sets of parameters that seem to work, search more finely around these parameters. You may need to train for more epochs.\n- You should use the validation set for hyperparameter search, and save your test set for evaluating your architecture on the best parameters as selected by the validation set.\n\n### Going above and beyond\nIf you are feeling adventurous there are many other features you can implement to try and improve your performance. You are **not required** to implement any of these; however they would be good things to try for extra credit.\n\n- Alternative update steps: For the assignment we implemented SGD+momentum, RMSprop, and Adam; you could try alternatives like AdaGrad or AdaDelta.\n- Alternative activation functions such as leaky ReLU, parametric ReLU, ELU, or MaxOut.\n- Model ensembles\n- Data augmentation\n- New Architectures\n  - [ResNets](https://arxiv.org/abs/1512.03385) where the input from the previous layer is added to the output.\n  - [DenseNets](https://arxiv.org/abs/1608.06993) where inputs into previous layers are concatenated together.\n  - [This blog has an in-depth overview](https://chatbotslife.com/resnets-highwaynets-and-densenets-oh-my-9bb15918ee32)\n\nIf you do decide to implement something extra, clearly describe it in the \"Extra Credit Description\" cell below.\n\n### What we expect\nAt the very least, you should be able to train a ConvNet that gets at least 70% accuracy on the validation set. This is just a lower bound - if you are careful it should be possible to get accuracies much higher than that! Extra credit points will be awarded for particularly high-scoring models or unique approaches.\n\nYou should use the space below to experiment and train your network. \n\nHave fun and happy training!",
   "metadata": {
    "cell_id": "00034-78417403-38ef-489e-b937-f17366ab2460",
    "deepnote_cell_type": "markdown",
    "deepnote_cell_height": 1316
   }
  },
  {
   "cell_type": "code",
   "source": "# Train your model here, and make sure the output of this cell is the accuracy of your best model on the \n# train, val, and test sets. Here's some code to get you started. The output of this cell should be the training\n# and validation accuracy on your best model (measured by validation accuracy).\n\nmodel = nn.Sequential( # You fill this in!\n    nn.Conv2d(3,32,kernel_size=3,stride=1),\n    nn.ReLU(),\n    nn.BatchNorm2d(32),\n    \n    nn.Conv2d(32,32,kernel_size=3,stride=1),\n    nn.ReLU(),\n    nn.BatchNorm2d(32),\n\n    nn.MaxPool2d(2,stride=2),    \n\n    Flatten(),\n    nn.Linear(6272, 1024),\n    nn.ReLU(),\n    nn.Linear(1024,10)\n    )\n\nmodel = model.type(dtype)\nloss_fn = nn.CrossEntropyLoss().type(dtype)\noptimizer = optim.Adam(model.parameters(), lr=1e-2) # lr sets the learning rate of the optimizer\n\ntrain(model, loss_fn, optimizer, num_epochs=1)\ncheck_accuracy(model, loader_val)",
   "metadata": {
    "collapsed": true,
    "cell_id": "00035-e0061ef7-6020-445e-a1ac-493beb9caee8",
    "deepnote_to_be_reexecuted": false,
    "source_hash": "1ac799f",
    "execution_start": 1666192323124,
    "execution_millis": 94,
    "deepnote_cell_type": "code",
    "deepnote_cell_height": 693.1875
   },
   "outputs": [
    {
     "output_type": "error",
     "ename": "KernelInterrupted",
     "evalue": "Execution interrupted by the Jupyter kernel.",
     "traceback": [
      "\u001b[0;31m---------------------------------------------------------------------------\u001b[0m",
      "\u001b[0;31mKernelInterrupted\u001b[0m: Execution interrupted by the Jupyter kernel."
     ]
    }
   ],
   "execution_count": null
  },
  {
   "cell_type": "markdown",
   "source": "### Describe what you did \n\nIn the cell below you should write an explanation of what you did, any additional features that you implemented, and any visualizations or graphs that you make in the process of training and evaluating your network.",
   "metadata": {
    "cell_id": "00036-a995edd8-6702-4738-87c9-334fa993c672",
    "deepnote_cell_type": "markdown",
    "deepnote_cell_height": 122.796875
   }
  },
  {
   "cell_type": "markdown",
   "source": "Tell us here!",
   "metadata": {
    "cell_id": "00037-08777e41-93e4-4552-b3dc-ffa972d6e40e",
    "deepnote_cell_type": "markdown",
    "deepnote_cell_height": 52.390625
   }
  },
  {
   "cell_type": "markdown",
   "source": "## Test set -- run this only once\n\nNow that we've gotten a result we're happy with, we test our final model on the test set (which you should store in best_model).  This would be the score we would achieve on a competition. Think about how this compares to your validation set accuracy.",
   "metadata": {
    "cell_id": "00038-a06cf217-6154-4d54-adc4-6c32214470f7",
    "deepnote_cell_type": "markdown",
    "deepnote_cell_height": 130.796875
   }
  },
  {
   "cell_type": "code",
   "metadata": {
    "collapsed": true,
    "cell_id": "00039-7e1658aa-81dc-48af-a337-c53a7296fe5b",
    "deepnote_to_be_reexecuted": true,
    "source_hash": "e864a124",
    "deepnote_cell_type": "code",
    "deepnote_cell_height": 94
   },
   "source": "best_model = None\ncheck_accuracy(best_model, loader_test)",
   "execution_count": null,
   "outputs": []
  },
  {
   "cell_type": "markdown",
   "source": "## Going further with PyTorch\n\nThe next assignment will make heavy use of PyTorch. You might also find it useful for your projects. \n\nHere's a nice tutorial by Justin Johnson that shows off some of PyTorch's features, like dynamic graphs and custom NN modules: http://pytorch.org/tutorials/beginner/pytorch_with_examples.html\n\nIf you're interested in reinforcement learning for your final project, this is a good (more advanced) DQN tutorial in PyTorch: http://pytorch.org/tutorials/intermediate/reinforcement_q_learning.html",
   "metadata": {
    "cell_id": "00040-4b0c5674-718b-4934-a4a1-6d15707c7356",
    "deepnote_cell_type": "markdown",
    "deepnote_cell_height": 226
   }
  },
  {
   "cell_type": "markdown",
   "source": "<a style='text-decoration:none;line-height:16px;display:flex;color:#5B5B62;padding:10px;justify-content:end;' href='https://deepnote.com?utm_source=created-in-deepnote-cell&projectId=394314bc-87db-40f1-a9ae-47afa67263f9' target=\"_blank\">\n<img alt='Created in deepnote.com' style='display:inline;max-height:16px;margin:0px;margin-right:7.5px;' src='data:image/svg+xml;base64,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' > </img>\nCreated in <span style='font-weight:600;margin-left:4px;'>Deepnote</span></a>",
   "metadata": {
    "tags": [],
    "created_in_deepnote_cell": true,
    "deepnote_cell_type": "markdown"
   }
  }
 ],
 "nbformat": 4,
 "nbformat_minor": 0,
 "metadata": {
  "kernelspec": {
   "display_name": "Python 3",
   "name": "python3",
   "language": "python"
  },
  "language_info": {
   "mimetype": "text/x-python",
   "nbconvert_exporter": "python",
   "name": "python",
   "file_extension": ".py",
   "version": "3.5.0",
   "pygments_lexer": "ipython3",
   "codemirror_mode": {
    "version": 3,
    "name": "ipython"
   }
  },
  "deepnote_notebook_id": "1b06bcbb-e37b-4a44-84b0-465e981c508b",
  "deepnote": {},
  "deepnote_execution_queue": []
 }
}